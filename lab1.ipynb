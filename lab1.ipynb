{
 "cells": [
  {
   "cell_type": "markdown",
   "id": "77ca5be2",
   "metadata": {},
   "source": [
    "# Εργαστήριο 1ο "
   ]
  },
  {
   "cell_type": "markdown",
   "id": "56f85a20",
   "metadata": {},
   "source": [
    "## Ασκηση 1 - Προσπέλαση Εγγράφου\n",
    "\n",
    "Ο πρώτος στόχος του εργαστρηρίου είναι η προσπέλαση ενός αρχείου, το οποίο βρίσκεται σε ορισμένη διαδρομή στον υπολογιστή και είναι σε μορφή .txt, προκειμένου να διαβάσουμε τα  περιεχόμενα του και να επιστρέψουμε μια λίστα με αντικείμενα τις γραμμές. "
   ]
  },
  {
   "cell_type": "markdown",
   "id": "67e22ed9",
   "metadata": {},
   "source": [
    "### Μέθοδος 1 - For Loop "
   ]
  },
  {
   "cell_type": "code",
   "execution_count": 29,
   "id": "eca1d2ce",
   "metadata": {},
   "outputs": [],
   "source": [
    "def parse_txt(filepath:str,  encoding=\"utf8\") -> list:\n",
    "    lines_list = []\n",
    "    with open(filepath,\"r+\", encoding=encoding) as f: # note that encoding nees to be specified in some cases\n",
    "        for line in f: \n",
    "            if line.strip(): # checks if line is not empty\n",
    "                lines_list.append(line)\n",
    "                \n",
    "    return lines_list"
   ]
  },
  {
   "cell_type": "code",
   "execution_count": 30,
   "id": "993fb1d9",
   "metadata": {},
   "outputs": [
    {
     "name": "stdout",
     "output_type": "stream",
     "text": [
      "['When Mr. Bilbo Baggins of Bag End announced that he would shortly be celebrating his eleventy-first birthday with a party of special magnificence, there was much talk and excitement in Hobbiton.\\n', 'Bilbo was very rich and very peculiar, and had been the wonder of the Shire for sixty years, ever since his remarkable disappearance and unexpected return. The riches he had brought back from his travels had now become a local legend, and it was popularly believed, whatever the old folk might say, that the Hill at Bag End was full of tunnels stuffed with treasure. And if that was not enough for fame, there was also his prolonged vigour to marvel at. Time wore on, but it seemed to have little effect on Mr. Baggins. At ninety he was much the same as at fifty. At ninety-nine they began to call him well-preserved, but unchanged would have been nearer the mark. There were some that shook their heads and thought this was too much of a good thing; it seemed unfair that anyone should possess (apparently) perpetual youth as well as (reputedly) inexhaustible wealth.\\n', '‘It will have to be paid for,’ they said. ‘It isn’t natural, and trouble will come of it!’\\n', 'But so far trouble had not come; and as Mr. Baggins was generous with his money, most people were willing to forgive him his oddities and his good fortune. He remained on visiting terms with his relatives (except, of course, the Sackville-Bagginses), and he had many devoted admirers among the hobbits of poor and unimportant families. But he had no close friends, until some of his younger cousins began to grow up.\\n', 'The eldest of these, and Bilbo’s favourite, was young Frodo Baggins. When Bilbo was ninety-nine, he adopted Frodo as his heir, and brought him to live at Bag End; and the hopes of the Sackville-Bagginses were finally dashed. Bilbo and Frodo happened to have the same birthday, September 22nd. ‘You had better come and live here, Frodo my lad,’ said Bilbo one day; ‘and then we can celebrate our birthday-parties comfortably together.’ At that time Frodo was still in his tweens, as the hobbits called the irresponsible twenties between childhood and coming of age at thirty-three.\\n']\n"
     ]
    }
   ],
   "source": [
    "lines = parse_txt(\"C:\\\\Users\\\\giann\\Lab1_example.txt\")\n",
    "print(lines[:5])"
   ]
  },
  {
   "cell_type": "markdown",
   "id": "6df6f341",
   "metadata": {},
   "source": [
    "### Μεθοδος 2 - readlines()"
   ]
  },
  {
   "cell_type": "code",
   "execution_count": 31,
   "id": "a8b99fc0",
   "metadata": {},
   "outputs": [],
   "source": [
    "def parse_txt(filepath:str, encoding=\"utf8\") -> list:\n",
    "    with open(filepath,\"r+\", encoding=encoding\n",
    "             ) as f: \n",
    "        lines = f.readlines()\n",
    "        lines = [l for l in lines if l.strip()] # In readlines() we filter empty rows with a generator \n",
    "    return lines"
   ]
  },
  {
   "cell_type": "code",
   "execution_count": 32,
   "id": "23718343",
   "metadata": {},
   "outputs": [
    {
     "name": "stdout",
     "output_type": "stream",
     "text": [
      "['When Mr. Bilbo Baggins of Bag End announced that he would shortly be celebrating his eleventy-first birthday with a party of special magnificence, there was much talk and excitement in Hobbiton.\\n', 'Bilbo was very rich and very peculiar, and had been the wonder of the Shire for sixty years, ever since his remarkable disappearance and unexpected return. The riches he had brought back from his travels had now become a local legend, and it was popularly believed, whatever the old folk might say, that the Hill at Bag End was full of tunnels stuffed with treasure. And if that was not enough for fame, there was also his prolonged vigour to marvel at. Time wore on, but it seemed to have little effect on Mr. Baggins. At ninety he was much the same as at fifty. At ninety-nine they began to call him well-preserved, but unchanged would have been nearer the mark. There were some that shook their heads and thought this was too much of a good thing; it seemed unfair that anyone should possess (apparently) perpetual youth as well as (reputedly) inexhaustible wealth.\\n', '‘It will have to be paid for,’ they said. ‘It isn’t natural, and trouble will come of it!’\\n', 'But so far trouble had not come; and as Mr. Baggins was generous with his money, most people were willing to forgive him his oddities and his good fortune. He remained on visiting terms with his relatives (except, of course, the Sackville-Bagginses), and he had many devoted admirers among the hobbits of poor and unimportant families. But he had no close friends, until some of his younger cousins began to grow up.\\n', 'The eldest of these, and Bilbo’s favourite, was young Frodo Baggins. When Bilbo was ninety-nine, he adopted Frodo as his heir, and brought him to live at Bag End; and the hopes of the Sackville-Bagginses were finally dashed. Bilbo and Frodo happened to have the same birthday, September 22nd. ‘You had better come and live here, Frodo my lad,’ said Bilbo one day; ‘and then we can celebrate our birthday-parties comfortably together.’ At that time Frodo was still in his tweens, as the hobbits called the irresponsible twenties between childhood and coming of age at thirty-three.\\n']\n"
     ]
    }
   ],
   "source": [
    "lines = parse_txt(\"C:\\\\Users\\\\giann\\Lab1_example.txt\")\n",
    "print(lines[:5])"
   ]
  },
  {
   "cell_type": "markdown",
   "id": "780969bc",
   "metadata": {},
   "source": [
    "### Encoding - Decoding\n",
    "Το πρώτο πρόβλημα το οποίο παρουσιάζεται στην μέθοδο έρχεται από το encoding και αντίστοιχα decoding των χαρακτήρων. Κάθε χαρακτήρας μεταφέρεται ως byte και εδω βλέπουμε ότι \n",
    "\n",
    "### Κενές γραμμές\n",
    "Ακόμη το κείμενο περιέχει κενές γραμμές τις οποίες πιθανώνα μην τις χρειαζόμαστε ως έξοδο της μεθόδου. Για να τις παρακάμψουμε θα χρησιμοποιήσουμε την μέθοδο .strip() η οποία εφαρμόζεται σε strings. \n"
   ]
  },
  {
   "cell_type": "markdown",
   "id": "1b47d218",
   "metadata": {},
   "source": [
    "## ΄Άσκηση 2 \n",
    "Να δημιουργηθεί μια μέθοδος η οποία κάνει tokenize αλφαρηθμιτικούς χαρακτήρες"
   ]
  },
  {
   "cell_type": "markdown",
   "id": "42402c2c",
   "metadata": {},
   "source": [
    "### Μέθοδος 1 - .split()"
   ]
  },
  {
   "cell_type": "code",
   "execution_count": 56,
   "id": "bf0f9e5c",
   "metadata": {},
   "outputs": [],
   "source": [
    "def tokenize_line(line):\n",
    "    return line.split()"
   ]
  },
  {
   "cell_type": "code",
   "execution_count": 60,
   "id": "55e0c2cf",
   "metadata": {},
   "outputs": [
    {
     "data": {
      "text/plain": [
       "['When',\n",
       " 'Mr.',\n",
       " 'Bilbo',\n",
       " 'Baggins',\n",
       " 'of',\n",
       " 'Bag',\n",
       " 'End',\n",
       " 'announced',\n",
       " 'that',\n",
       " 'he',\n",
       " 'would',\n",
       " 'shortly',\n",
       " 'be',\n",
       " 'celebrating',\n",
       " 'his',\n",
       " 'eleventy-first',\n",
       " 'birthday',\n",
       " 'with',\n",
       " 'a',\n",
       " 'party',\n",
       " 'of',\n",
       " 'special',\n",
       " 'magnificence,',\n",
       " 'there',\n",
       " 'was',\n",
       " 'much',\n",
       " 'talk',\n",
       " 'and',\n",
       " 'excitement',\n",
       " 'in',\n",
       " 'Hobbiton.']"
      ]
     },
     "execution_count": 60,
     "metadata": {},
     "output_type": "execute_result"
    }
   ],
   "source": [
    "tokenize_line(lines[0])"
   ]
  },
  {
   "cell_type": "markdown",
   "id": "f2f76dff",
   "metadata": {},
   "source": [
    "### Μέθοδος 2 - nltk"
   ]
  },
  {
   "cell_type": "code",
   "execution_count": 6,
   "id": "16b55c07",
   "metadata": {},
   "outputs": [
    {
     "name": "stderr",
     "output_type": "stream",
     "text": [
      "[nltk_data] Downloading package punkt to\n",
      "[nltk_data]     C:\\Users\\giann\\AppData\\Roaming\\nltk_data...\n",
      "[nltk_data]   Unzipping tokenizers\\punkt.zip.\n"
     ]
    },
    {
     "data": {
      "text/plain": [
       "['Bilbo',\n",
       " 'was',\n",
       " 'very',\n",
       " 'rich',\n",
       " 'and',\n",
       " 'very',\n",
       " 'peculiar',\n",
       " ',',\n",
       " 'and',\n",
       " 'had',\n",
       " 'been',\n",
       " 'the',\n",
       " 'wonder',\n",
       " 'of',\n",
       " 'the',\n",
       " 'Shire',\n",
       " 'for',\n",
       " 'sixty',\n",
       " 'years',\n",
       " ',',\n",
       " 'ever',\n",
       " 'since',\n",
       " 'his',\n",
       " 'remarkable',\n",
       " 'disappearance',\n",
       " 'and',\n",
       " 'unexpected',\n",
       " 'return',\n",
       " '.',\n",
       " 'The',\n",
       " 'riches',\n",
       " 'he',\n",
       " 'had',\n",
       " 'brought',\n",
       " 'back',\n",
       " 'from',\n",
       " 'his',\n",
       " 'travels',\n",
       " 'had',\n",
       " 'now',\n",
       " 'become',\n",
       " 'a',\n",
       " 'local',\n",
       " 'legend',\n",
       " ',',\n",
       " 'and',\n",
       " 'it',\n",
       " 'was',\n",
       " 'popularly',\n",
       " 'believed',\n",
       " ',',\n",
       " 'whatever',\n",
       " 'the',\n",
       " 'old',\n",
       " 'folk',\n",
       " 'might',\n",
       " 'say',\n",
       " ',',\n",
       " 'that',\n",
       " 'the',\n",
       " 'Hill',\n",
       " 'at',\n",
       " 'Bag',\n",
       " 'End',\n",
       " 'was',\n",
       " 'full',\n",
       " 'of',\n",
       " 'tunnels',\n",
       " 'stuffed',\n",
       " 'with',\n",
       " 'treasure',\n",
       " '.',\n",
       " 'And',\n",
       " 'if',\n",
       " 'that',\n",
       " 'was',\n",
       " 'not',\n",
       " 'enough',\n",
       " 'for',\n",
       " 'fame',\n",
       " ',',\n",
       " 'there',\n",
       " 'was',\n",
       " 'also',\n",
       " 'his',\n",
       " 'prolonged',\n",
       " 'vigour',\n",
       " 'to',\n",
       " 'marvel',\n",
       " 'at',\n",
       " '.',\n",
       " 'Time',\n",
       " 'wore',\n",
       " 'on',\n",
       " ',',\n",
       " 'but',\n",
       " 'it',\n",
       " 'seemed',\n",
       " 'to',\n",
       " 'have',\n",
       " 'little',\n",
       " 'effect',\n",
       " 'on',\n",
       " 'Mr.',\n",
       " 'Baggins',\n",
       " '.',\n",
       " 'At',\n",
       " 'ninety',\n",
       " 'he',\n",
       " 'was',\n",
       " 'much',\n",
       " 'the',\n",
       " 'same',\n",
       " 'as',\n",
       " 'at',\n",
       " 'fifty',\n",
       " '.',\n",
       " 'At',\n",
       " 'ninety-nine',\n",
       " 'they',\n",
       " 'began',\n",
       " 'to',\n",
       " 'call',\n",
       " 'him',\n",
       " 'well-preserved',\n",
       " ',',\n",
       " 'but',\n",
       " 'unchanged',\n",
       " 'would',\n",
       " 'have',\n",
       " 'been',\n",
       " 'nearer',\n",
       " 'the',\n",
       " 'mark',\n",
       " '.',\n",
       " 'There',\n",
       " 'were',\n",
       " 'some',\n",
       " 'that',\n",
       " 'shook',\n",
       " 'their',\n",
       " 'heads',\n",
       " 'and',\n",
       " 'thought',\n",
       " 'this',\n",
       " 'was',\n",
       " 'too',\n",
       " 'much',\n",
       " 'of',\n",
       " 'a',\n",
       " 'good',\n",
       " 'thing',\n",
       " ';',\n",
       " 'it',\n",
       " 'seemed',\n",
       " 'unfair',\n",
       " 'that',\n",
       " 'anyone',\n",
       " 'should',\n",
       " 'possess',\n",
       " '(',\n",
       " 'apparently',\n",
       " ')',\n",
       " 'perpetual',\n",
       " 'youth',\n",
       " 'as',\n",
       " 'well',\n",
       " 'as',\n",
       " '(',\n",
       " 'reputedly',\n",
       " ')',\n",
       " 'inexhaustible',\n",
       " 'wealth',\n",
       " '.']"
      ]
     },
     "execution_count": 6,
     "metadata": {},
     "output_type": "execute_result"
    }
   ],
   "source": [
    "from nltk.tokenize import word_tokenize\n",
    "nltk.download(\"punkt\")\n",
    "word_tokenize(lines[1])"
   ]
  },
  {
   "cell_type": "markdown",
   "id": "f38f7520",
   "metadata": {},
   "source": [
    "## Μέρος 3ο - Αναδρομική εξερεύνηση φακέλων για αρχεία"
   ]
  },
  {
   "cell_type": "code",
   "execution_count": 35,
   "id": "d0571b6b",
   "metadata": {},
   "outputs": [
    {
     "data": {
      "text/plain": [
       "['-1.14-windows.xml',\n",
       " '.anaconda',\n",
       " '.android',\n",
       " '.astah',\n",
       " '.azuredatastudio',\n",
       " '.cisco',\n",
       " '.conda',\n",
       " '.condarc',\n",
       " '.continuum',\n",
       " '.docker',\n",
       " '.dotnet',\n",
       " '.gitconfig',\n",
       " '.ipynb_checkpoints',\n",
       " '.ipython',\n",
       " '.jupyter',\n",
       " '.keras',\n",
       " '.lao_patch',\n",
       " '.matplotlib',\n",
       " '.MCTranscodingSDK',\n",
       " '.openshot_qt',\n",
       " '.Protege',\n",
       " '.spyder-py3',\n",
       " '.ssh',\n",
       " '.VirtualBox',\n",
       " '3D Objects',\n",
       " 'anaconda3',\n",
       " 'ansel',\n",
       " 'AppData',\n",
       " 'Application Data',\n",
       " 'autokerasmodel.h5',\n",
       " 'Contacts',\n",
       " 'Cookies',\n",
       " 'Documents',\n",
       " 'Downloads',\n",
       " 'Favorites',\n",
       " 'final_pipeline_predictions.csv',\n",
       " 'getting-started',\n",
       " 'Image Classification Assignment.ipynb',\n",
       " 'Image Regression Assignment.ipynb',\n",
       " 'IntelGraphicsProfiles',\n",
       " 'java_error_in_pycharm64.hprof',\n",
       " 'Jedi',\n",
       " 'lab1.ipynb',\n",
       " 'Lab1_example.txt',\n",
       " 'left',\n",
       " 'Lightworks',\n",
       " 'Links',\n",
       " 'Local Settings',\n",
       " 'Music',\n",
       " 'NetHood',\n",
       " 'NTUSER.DAT',\n",
       " 'ntuser.dat.LOG1',\n",
       " 'ntuser.dat.LOG2',\n",
       " 'NTUSER.DAT{53b39e88-18c4-11ea-a811-000d3aa4692b}.TM.blf',\n",
       " 'NTUSER.DAT{53b39e88-18c4-11ea-a811-000d3aa4692b}.TMContainer00000000000000000001.regtrans-ms',\n",
       " 'NTUSER.DAT{53b39e88-18c4-11ea-a811-000d3aa4692b}.TMContainer00000000000000000002.regtrans-ms',\n",
       " 'NTUSER.DAT{e4ecbd7e-a9a4-11eb-9b60-a8a159608f4a}.TxR.0.regtrans-ms',\n",
       " 'NTUSER.DAT{e4ecbd7e-a9a4-11eb-9b60-a8a159608f4a}.TxR.1.regtrans-ms',\n",
       " 'NTUSER.DAT{e4ecbd7e-a9a4-11eb-9b60-a8a159608f4a}.TxR.2.regtrans-ms',\n",
       " 'NTUSER.DAT{e4ecbd7e-a9a4-11eb-9b60-a8a159608f4a}.TxR.blf',\n",
       " 'NTUSER.DAT{e4ecbd7f-a9a4-11eb-9b60-a8a159608f4a}.TM.blf',\n",
       " 'NTUSER.DAT{e4ecbd7f-a9a4-11eb-9b60-a8a159608f4a}.TMContainer00000000000000000001.regtrans-ms',\n",
       " 'NTUSER.DAT{e4ecbd7f-a9a4-11eb-9b60-a8a159608f4a}.TMContainer00000000000000000002.regtrans-ms',\n",
       " 'ntuser.ini',\n",
       " 'OneDrive',\n",
       " 'ontospy-viz-test',\n",
       " 'Postman',\n",
       " 'PrintHood',\n",
       " 'PycharmProjects',\n",
       " 'Recent',\n",
       " 'right',\n",
       " 'Saved Games',\n",
       " 'Searches',\n",
       " 'SendTo',\n",
       " 'Start Menu',\n",
       " 'Templates',\n",
       " 'Untitled.ipynb',\n",
       " 'Videos',\n",
       " 'VirtualBox VMs',\n",
       " 'Xtest.txt',\n",
       " 'Xtrain.txt',\n",
       " 'Ytrain.htm',\n",
       " 'Ytrain.txt',\n",
       " 'Τα έγγραφά μου']"
      ]
     },
     "execution_count": 35,
     "metadata": {},
     "output_type": "execute_result"
    }
   ],
   "source": [
    "import os \n",
    "for item in os.listdir(\"C:\\\\Users\\\\giann\"):\n",
    "    if os.isdir(item): # if item is folder\n",
    "        for item_ in item:  # check all files\n",
    "            print(item_)"
   ]
  },
  {
   "cell_type": "markdown",
   "id": "af5c0422",
   "metadata": {},
   "source": [
    " \n",
    "Αναδρομική εξερεύνηση φακέλων για την εύρεση αρχείων με την χρήση της βιβλιοθήκης **glob** \n",
    "\n",
    "Η χρήση της βιβλιοθήκης glob μας επιτρέπει να ψάξουμε αναδρομικά μια διαδρομή φακέλων και υποφακέλων για αρχεία είτε γενικώς είτε μιας συγκεκριμένης μορφής.  Τα παρακάτω παραδείγματα κώδικα μας δείχνουν \n",
    "\n",
    "Αναλυτική περιγραφή της βιβλιοθήκης glob μπορεί να βρεθεί στον παρακάτω σύνδεσμο: \n",
    "https://docs.python.org/3/library/glob.html\n"
   ]
  },
  {
   "cell_type": "code",
   "execution_count": 34,
   "id": "d9e92e7b",
   "metadata": {},
   "outputs": [
    {
     "name": "stdout",
     "output_type": "stream",
     "text": [
      "['C:\\\\Users\\\\giann']\n"
     ]
    }
   ],
   "source": [
    "import glob \n",
    "print(glob.glob(\"C:\\\\Users\\\\giann\"))"
   ]
  },
  {
   "cell_type": "code",
   "execution_count": 16,
   "id": "6dbb644c",
   "metadata": {},
   "outputs": [
    {
     "name": "stdout",
     "output_type": "stream",
     "text": [
      "['C:\\\\Users\\\\giann\\\\anaconda3\\\\LICENSE_PYTHON.txt', 'C:\\\\Users\\\\giann\\\\Downloads\\\\describe_nodes.txt', 'C:\\\\Users\\\\giann\\\\getting-started\\\\requirements.txt']\n"
     ]
    }
   ],
   "source": [
    "print(glob.glob(\"C:\\\\Users\\\\giann\\**\"))"
   ]
  },
  {
   "cell_type": "code",
   "execution_count": 33,
   "id": "3094e349",
   "metadata": {},
   "outputs": [
    {
     "data": {
      "text/plain": [
       "['C:\\\\Users\\\\giann\\\\anaconda3\\\\LICENSE_PYTHON.txt',\n",
       " 'C:\\\\Users\\\\giann\\\\Downloads\\\\describe_nodes.txt',\n",
       " 'C:\\\\Users\\\\giann\\\\getting-started\\\\requirements.txt']"
      ]
     },
     "execution_count": 33,
     "metadata": {},
     "output_type": "execute_result"
    }
   ],
   "source": [
    "glob.glob(\"C:\\\\Users\\\\giann\\**\\*.txt\")"
   ]
  },
  {
   "cell_type": "markdown",
   "id": "8da133f2",
   "metadata": {},
   "source": [
    "## Bonus - Reading Txt from PDF"
   ]
  },
  {
   "cell_type": "code",
   "execution_count": null,
   "id": "f30ac416",
   "metadata": {},
   "outputs": [],
   "source": [
    "Import fitz \n",
    "\n",
    "pdf = fitz.open(\"test.pdf\")\n",
    "for pagenum, page in enumerate(pdf.pages(), start=1):\n",
    "    page_txt = page.get_text()\n",
    "    print(page_txt)"
   ]
  }
 ],
 "metadata": {
  "kernelspec": {
   "display_name": "Python 3 (ipykernel)",
   "language": "python",
   "name": "python3"
  },
  "language_info": {
   "codemirror_mode": {
    "name": "ipython",
    "version": 3
   },
   "file_extension": ".py",
   "mimetype": "text/x-python",
   "name": "python",
   "nbconvert_exporter": "python",
   "pygments_lexer": "ipython3",
   "version": "3.10.0"
  }
 },
 "nbformat": 4,
 "nbformat_minor": 5
}
