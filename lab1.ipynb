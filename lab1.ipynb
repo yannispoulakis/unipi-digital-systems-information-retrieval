{
 "cells": [
  {
   "cell_type": "markdown",
   "id": "77ca5be2",
   "metadata": {},
   "source": [
    "# Εργαστήριο 1ο - Ανάκτηση Πληροφοριών\n",
    "## Τμήμα Ψηφιακών Συστημάτων - Πανεπιστήμιο Πειραιά\n",
    "\n",
    "Διδάσκων Καθηγητής: Δουλκερίδης Χρήστος <br />\n",
    "Υπ. Διδάκτωρας: Πουλάκης Γιάννης"
   ]
  },
  {
   "cell_type": "markdown",
   "id": "56f85a20",
   "metadata": {},
   "source": [
    "## Εργαστήριο 1ο \n",
    "\n",
    "Στόχος του πρώτου εργαστηρίου είναι η προσπέλαση αρχείων που εμπεριέχουν κείμενο, καθώς και η επεξεργασία του εξαγώμενου κειμένου που θα αξιοποιηθεί περαιτέρω σε επόμενα μαθήματα.\n"
   ]
  },
  {
   "cell_type": "markdown",
   "id": "8249faff",
   "metadata": {},
   "source": [
    "## Ασκηση 1 - Προσπέλαση Εγγράφου\n",
    "\n",
    "Η πρώτη άσκηση είναι η δημιουργία μεθόδου, η οποία θα μας επιτρέπει την προσπέλαση αρχείων μορφής .txt που βρίσκονται σε συγκεκριμένη διαδρομή στον υπολογιστή. Τα δεδομένα προς αξιοποίηση βρίσκονται στην ενότητα \"Έγγραφα\\Εργαστήριο\" στην σελίδα του μαθήματος στην πλατφόρμα \"Αρίσταρχος\". \n",
    "\n",
    "https://aristarchus.ds.unipi.gr/\n",
    "\n",
    "Συγκεκριμένα, η μέθοδος θα πρέπει να λαμβάνει την διαδρομή του αρχείου και να εξάγει μια λίστα, όπου αντικείμενα της θα είναι οι εκάστοτε προτάσεις. Στην λίστα εξόδου δεν θα πρέπει να περιλαμβάνονται κενές γραμμές.\n",
    "\n",
    "Για αυτή την άσκηση υπάρχουν δύο προσεγγίσεις : <br/>\n",
    "a) H χρήση for loop <br/>\n",
    "b) H χρήση της readlines()\n",
    "\n",
    "Να εμφανίσετε τις 5 πρώτες γραμμές ως παράδειγμα. \n",
    "\n",
    "**Προσοχή!**\n",
    "Είναι σημαντικό στις μεθόδους που χρησιμοποιούνται, να υπάρχουν σχόλια, όπου αυτό κρίνεται απαραίτητο και να δηλώνονται οι τύποι των μεταβλητών εισόδου και εξόδου, προκειμένου να υπάρχει σαφήνεια. "
   ]
  },
  {
   "cell_type": "markdown",
   "id": "67e22ed9",
   "metadata": {},
   "source": [
    "### Μέθοδος 1 - For Loop "
   ]
  },
  {
   "cell_type": "code",
   "execution_count": 67,
   "id": "eca1d2ce",
   "metadata": {},
   "outputs": [],
   "source": [
    "def parse_txt(filepath:str) -> list:\n",
    "    lines_list = []\n",
    "    with open(filepath,\"r+\") as f: # note that encoding nees to be specified in some cases\n",
    "        for line in f: \n",
    "            if line.strip(): # checks if line is not empty\n",
    "                lines_list.append(line)\n",
    "                \n",
    "    return lines_list"
   ]
  },
  {
   "cell_type": "code",
   "execution_count": 68,
   "id": "993fb1d9",
   "metadata": {},
   "outputs": [
    {
     "name": "stdout",
     "output_type": "stream",
     "text": [
      "[\"New Zealand's current account deficit for the quarter ended December 31 ,1986 narrowed to 567 mln dlrs from 738 mln ,revised down from 742 mln ,for the September quarter and from 733 mln a year earlier ,the statistics department said .The deficit for the year ended December narrowed to 2.75 billion dlrs from 2.91 billion dlrs ,revised down from 2.92 billion ,for the year ended September .The deficit for calendar 1985 was 2.61 billion .The December quarter showed a 182 mln dlr surplus for merchandise trade ,unchanged from the September quarter surplus which was revised down from 271 mln dlrs .The 1985 December quarter showed a 13 mln dlr deficit .Imports for the December 1986 quarter were 2.655 billion against 2.883 billion in the September quarter and 2.454 a year earlier .Exports were 2.837 billion against 3.065 billion and 2.440 billion .Imports for the year ended December 1986 were 10.74 billion dlrs compared with 11.14 billion in 1985 .Exports were 11.20 billion against 11.36 billion .Government borrowing stood at 9.26 billion dlrs for calendar 1986 against 3.15 billion for 1985 .Borrowing in the December quarter rose to 3.92 billion from 1.79 in the September quarter and 611 mln a year earlier .Repayments stood at 5.5 billion for the year ,up from 3.1 billion in 1985 .Repayments in the December quarter accounted for 1.4 billion dlrs against 260 mln in the September quarter and 334 mln a year earlier .Official reserves totalled 7.205 billion dlrs at end December compared with 4.723 billion at end September and 3.255 billion one year earlier .REUTER 3 \"]\n"
     ]
    }
   ],
   "source": [
    "lines = parse_txt(r\"C:\\Users\\giann\\OneDrive\\Υπολογιστής\\Unipi_Master\\Information Retrieval Course Bachelor\\reuters\\data\\bop\\reut2-000x879.txt\")\n",
    "print(lines[:5])"
   ]
  },
  {
   "cell_type": "markdown",
   "id": "6df6f341",
   "metadata": {},
   "source": [
    "### Μεθοδος 2 - readlines()"
   ]
  },
  {
   "cell_type": "code",
   "execution_count": 32,
   "id": "a69a99f8",
   "metadata": {},
   "outputs": [
    {
     "name": "stdout",
     "output_type": "stream",
     "text": [
      "ascii\n"
     ]
    }
   ],
   "source": [
    "# Πως ελέγχουμε το encoding ενός εγγράφου΄΄; - Chardet  \n",
    "import chardet    \n",
    "rawdata = open(r\"C:\\Users\\giann\\OneDrive\\Υπολογιστής\\Unipi_Master\\Information Retrieval Course Bachelor\\reuters\\data\\bop\\reut2-000x879.txt\", 'rb').read()\n",
    "result = chardet.detect(rawdata)\n",
    "charenc = result['encoding']\n",
    "print(charenc)"
   ]
  },
  {
   "cell_type": "code",
   "execution_count": 34,
   "id": "a8b99fc0",
   "metadata": {},
   "outputs": [],
   "source": [
    "def parse_txt(filepath:str, encoding) -> list:\n",
    "    with open(filepath, \"r+\",encoding = encoding) as f: \n",
    "        lines = f.readlines()\n",
    "        lines = [l for l in lines if l.strip()] # In readlines() we filter empty rows with a generator \n",
    "    return lines"
   ]
  },
  {
   "cell_type": "code",
   "execution_count": 35,
   "id": "23718343",
   "metadata": {},
   "outputs": [
    {
     "name": "stdout",
     "output_type": "stream",
     "text": [
      "[\"New Zealand's current account deficit for the quarter ended December 31 ,1986 narrowed to 567 mln dlrs from 738 mln ,revised down from 742 mln ,for the September quarter and from 733 mln a year earlier ,the statistics department said .The deficit for the year ended December narrowed to 2.75 billion dlrs from 2.91 billion dlrs ,revised down from 2.92 billion ,for the year ended September .The deficit for calendar 1985 was 2.61 billion .The December quarter showed a 182 mln dlr surplus for merchandise trade ,unchanged from the September quarter surplus which was revised down from 271 mln dlrs .The 1985 December quarter showed a 13 mln dlr deficit .Imports for the December 1986 quarter were 2.655 billion against 2.883 billion in the September quarter and 2.454 a year earlier .Exports were 2.837 billion against 3.065 billion and 2.440 billion .Imports for the year ended December 1986 were 10.74 billion dlrs compared with 11.14 billion in 1985 .Exports were 11.20 billion against 11.36 billion .Government borrowing stood at 9.26 billion dlrs for calendar 1986 against 3.15 billion for 1985 .Borrowing in the December quarter rose to 3.92 billion from 1.79 in the September quarter and 611 mln a year earlier .Repayments stood at 5.5 billion for the year ,up from 3.1 billion in 1985 .Repayments in the December quarter accounted for 1.4 billion dlrs against 260 mln in the September quarter and 334 mln a year earlier .Official reserves totalled 7.205 billion dlrs at end December compared with 4.723 billion at end September and 3.255 billion one year earlier .REUTER 3 \"]\n"
     ]
    }
   ],
   "source": [
    "lines = parse_txt(r\"C:\\Users\\giann\\OneDrive\\Υπολογιστής\\Unipi_Master\\Information Retrieval Course Bachelor\\reuters\\data\\bop\\reut2-000x879.txt\", encoding = charenc)\n",
    "print(lines[:5])"
   ]
  },
  {
   "cell_type": "markdown",
   "id": "1b47d218",
   "metadata": {},
   "source": [
    "## Άσκηση 2 \n",
    "\n",
    "\n",
    "Για την δεύτερη άσκηση του εργαστηρίου οι φοιτητές καλούνται να δημιουργήσουν μια μέθοδο η οποία για κάθε γράμμή του κειμένου εφαρμόζει μερικές απο τις βασικότερες μεθόδους προεπεξεργασίας κειμένου. Συνιστάται η χρήση της βιβλιοθήκης nltk η οποία έχει δημιουργηθεί με στόχο την επεξεργασία κειμένου. Συγκεκριμένα οι τεχνικές προεπεξεργασίας οι οποίες ζητούνται είναι οι εξής:  <br/><br/>\n",
    "\n",
    "a) Punctuation Removal <br/>\n",
    "b) Text Lowering <br/>\n",
    "c) Tokenization <br/>\n",
    "d) Lemmatization <br/>\n",
    "e) Stop-Words Removal  <br/>"
   ]
  },
  {
   "cell_type": "code",
   "execution_count": 44,
   "id": "d0b76db1",
   "metadata": {},
   "outputs": [
    {
     "name": "stdout",
     "output_type": "stream",
     "text": [
      "New Zealands current account deficit for the quarter ended December 31 1986 narrowed to 567 mln dlrs from 738 mln revised down from 742 mln for the September quarter and from 733 mln a year earlier the statistics department said The deficit for the year ended December narrowed to 275 billion dlrs from 291 billion dlrs revised down from 292 billion for the year ended September The deficit for calendar 1985 was 261 billion The December quarter showed a 182 mln dlr surplus for merchandise trade unchanged from the September quarter surplus which was revised down from 271 mln dlrs The 1985 December quarter showed a 13 mln dlr deficit Imports for the December 1986 quarter were 2655 billion against 2883 billion in the September quarter and 2454 a year earlier Exports were 2837 billion against 3065 billion and 2440 billion Imports for the year ended December 1986 were 1074 billion dlrs compared with 1114 billion in 1985 Exports were 1120 billion against 1136 billion Government borrowing stood at 926 billion dlrs for calendar 1986 against 315 billion for 1985 Borrowing in the December quarter rose to 392 billion from 179 in the September quarter and 611 mln a year earlier Repayments stood at 55 billion for the year up from 31 billion in 1985 Repayments in the December quarter accounted for 14 billion dlrs against 260 mln in the September quarter and 334 mln a year earlier Official reserves totalled 7205 billion dlrs at end December compared with 4723 billion at end September and 3255 billion one year earlier REUTER 3 \n"
     ]
    }
   ],
   "source": [
    "# Punctuation Removal\n",
    "import string\n",
    "exclude = set(string.punctuation)\n",
    "s = ''.join(ch for ch in lines[0] if ch not in exclude)\n",
    "print(s)"
   ]
  },
  {
   "cell_type": "code",
   "execution_count": 45,
   "id": "ce487e96",
   "metadata": {},
   "outputs": [
    {
     "name": "stdout",
     "output_type": "stream",
     "text": [
      "new zealands current account deficit for the quarter ended december 31 1986 narrowed to 567 mln dlrs from 738 mln revised down from 742 mln for the september quarter and from 733 mln a year earlier the statistics department said the deficit for the year ended december narrowed to 275 billion dlrs from 291 billion dlrs revised down from 292 billion for the year ended september the deficit for calendar 1985 was 261 billion the december quarter showed a 182 mln dlr surplus for merchandise trade unchanged from the september quarter surplus which was revised down from 271 mln dlrs the 1985 december quarter showed a 13 mln dlr deficit imports for the december 1986 quarter were 2655 billion against 2883 billion in the september quarter and 2454 a year earlier exports were 2837 billion against 3065 billion and 2440 billion imports for the year ended december 1986 were 1074 billion dlrs compared with 1114 billion in 1985 exports were 1120 billion against 1136 billion government borrowing stood at 926 billion dlrs for calendar 1986 against 315 billion for 1985 borrowing in the december quarter rose to 392 billion from 179 in the september quarter and 611 mln a year earlier repayments stood at 55 billion for the year up from 31 billion in 1985 repayments in the december quarter accounted for 14 billion dlrs against 260 mln in the september quarter and 334 mln a year earlier official reserves totalled 7205 billion dlrs at end december compared with 4723 billion at end september and 3255 billion one year earlier reuter 3 \n"
     ]
    }
   ],
   "source": [
    "# Text Lowering\n",
    "print(s.lower())"
   ]
  },
  {
   "cell_type": "code",
   "execution_count": 51,
   "id": "4cf76f94",
   "metadata": {},
   "outputs": [
    {
     "name": "stdout",
     "output_type": "stream",
     "text": [
      "['New', 'Zealands', 'current', 'account', 'deficit']\n"
     ]
    },
    {
     "name": "stderr",
     "output_type": "stream",
     "text": [
      "[nltk_data] Downloading package punkt to\n",
      "[nltk_data]     C:\\Users\\giann\\AppData\\Roaming\\nltk_data...\n",
      "[nltk_data]   Package punkt is already up-to-date!\n"
     ]
    }
   ],
   "source": [
    "# Tokenization\n",
    "# H Κλάση string έχει built-in την μέθοδο .strip() η οποία χωρίζει κείμενο σε αντικείμενα λίστας με βάση μια σειρά χαρακτήρων. \n",
    "\n",
    "from nltk.tokenize import word_tokenize\n",
    "nltk.download(\"punkt\")\n",
    "tokenized_s = word_tokenize(s)\n",
    "print(tokenized_s[:5])"
   ]
  },
  {
   "cell_type": "code",
   "execution_count": 63,
   "id": "2dfe96c3",
   "metadata": {},
   "outputs": [
    {
     "name": "stdout",
     "output_type": "stream",
     "text": [
      "New New\n",
      "Zealands Zealands\n",
      "current current\n",
      "account account\n",
      "deficit deficit\n",
      "for for\n",
      "the the\n",
      "quarter quarter\n",
      "end ended\n",
      "December December\n",
      "31 31\n",
      "1986 1986\n",
      "narrow narrowed\n",
      "to to\n",
      "567 567\n",
      "mln mln\n",
      "dlrs dlrs\n",
      "from from\n",
      "738 738\n",
      "mln mln\n",
      "revise revised\n",
      "down down\n",
      "from from\n",
      "742 742\n",
      "mln mln\n",
      "for for\n",
      "the the\n",
      "September September\n",
      "quarter quarter\n",
      "and and\n",
      "from from\n",
      "733 733\n",
      "mln mln\n",
      "a a\n",
      "year year\n",
      "earlier earlier\n",
      "the the\n",
      "statistic statistics\n",
      "department department\n",
      "say said\n",
      "The The\n",
      "deficit deficit\n",
      "for for\n",
      "the the\n",
      "year year\n",
      "end ended\n",
      "December December\n",
      "narrow narrowed\n",
      "to to\n",
      "275 275\n",
      "billion billion\n",
      "dlrs dlrs\n",
      "from from\n",
      "291 291\n",
      "billion billion\n",
      "dlrs dlrs\n",
      "revise revised\n",
      "down down\n",
      "from from\n",
      "292 292\n",
      "billion billion\n",
      "for for\n",
      "the the\n",
      "year year\n",
      "end ended\n",
      "September September\n",
      "The The\n",
      "deficit deficit\n",
      "for for\n",
      "calendar calendar\n",
      "1985 1985\n",
      "be was\n",
      "261 261\n",
      "billion billion\n",
      "The The\n",
      "December December\n",
      "quarter quarter\n",
      "show showed\n",
      "a a\n",
      "182 182\n",
      "mln mln\n",
      "dlr dlr\n",
      "surplus surplus\n",
      "for for\n",
      "merchandise merchandise\n",
      "trade trade\n",
      "unchanged unchanged\n",
      "from from\n",
      "the the\n",
      "September September\n",
      "quarter quarter\n",
      "surplus surplus\n",
      "which which\n",
      "be was\n",
      "revise revised\n",
      "down down\n",
      "from from\n",
      "271 271\n",
      "mln mln\n",
      "dlrs dlrs\n",
      "The The\n",
      "1985 1985\n",
      "December December\n",
      "quarter quarter\n",
      "show showed\n",
      "a a\n",
      "13 13\n",
      "mln mln\n",
      "dlr dlr\n",
      "deficit deficit\n",
      "Imports Imports\n",
      "for for\n",
      "the the\n",
      "December December\n",
      "1986 1986\n",
      "quarter quarter\n",
      "be were\n",
      "2655 2655\n",
      "billion billion\n",
      "against against\n",
      "2883 2883\n",
      "billion billion\n",
      "in in\n",
      "the the\n",
      "September September\n",
      "quarter quarter\n",
      "and and\n",
      "2454 2454\n",
      "a a\n",
      "year year\n",
      "earlier earlier\n",
      "Exports Exports\n",
      "be were\n",
      "2837 2837\n",
      "billion billion\n",
      "against against\n",
      "3065 3065\n",
      "billion billion\n",
      "and and\n",
      "2440 2440\n",
      "billion billion\n",
      "Imports Imports\n",
      "for for\n",
      "the the\n",
      "year year\n",
      "end ended\n",
      "December December\n",
      "1986 1986\n",
      "be were\n",
      "1074 1074\n",
      "billion billion\n",
      "dlrs dlrs\n",
      "compare compared\n",
      "with with\n",
      "1114 1114\n",
      "billion billion\n",
      "in in\n",
      "1985 1985\n",
      "Exports Exports\n",
      "be were\n",
      "1120 1120\n",
      "billion billion\n",
      "against against\n",
      "1136 1136\n",
      "billion billion\n",
      "Government Government\n",
      "borrow borrowing\n",
      "stand stood\n",
      "at at\n",
      "926 926\n",
      "billion billion\n",
      "dlrs dlrs\n",
      "for for\n",
      "calendar calendar\n",
      "1986 1986\n",
      "against against\n",
      "315 315\n",
      "billion billion\n",
      "for for\n",
      "1985 1985\n",
      "Borrowing Borrowing\n",
      "in in\n",
      "the the\n",
      "December December\n",
      "quarter quarter\n",
      "rise rose\n",
      "to to\n",
      "392 392\n",
      "billion billion\n",
      "from from\n",
      "179 179\n",
      "in in\n",
      "the the\n",
      "September September\n",
      "quarter quarter\n",
      "and and\n",
      "611 611\n",
      "mln mln\n",
      "a a\n",
      "year year\n",
      "earlier earlier\n",
      "Repayments Repayments\n",
      "stand stood\n",
      "at at\n",
      "55 55\n",
      "billion billion\n",
      "for for\n",
      "the the\n",
      "year year\n",
      "up up\n",
      "from from\n",
      "31 31\n",
      "billion billion\n",
      "in in\n",
      "1985 1985\n",
      "Repayments Repayments\n",
      "in in\n",
      "the the\n",
      "December December\n",
      "quarter quarter\n",
      "account accounted\n",
      "for for\n",
      "14 14\n",
      "billion billion\n",
      "dlrs dlrs\n",
      "against against\n",
      "260 260\n",
      "mln mln\n",
      "in in\n",
      "the the\n",
      "September September\n",
      "quarter quarter\n",
      "and and\n",
      "334 334\n",
      "mln mln\n",
      "a a\n",
      "year year\n",
      "earlier earlier\n",
      "Official Official\n",
      "reserve reserves\n",
      "total totalled\n",
      "7205 7205\n",
      "billion billion\n",
      "dlrs dlrs\n",
      "at at\n",
      "end end\n",
      "December December\n",
      "compare compared\n",
      "with with\n",
      "4723 4723\n",
      "billion billion\n",
      "at at\n",
      "end end\n",
      "September September\n",
      "and and\n",
      "3255 3255\n",
      "billion billion\n",
      "one one\n",
      "year year\n",
      "earlier earlier\n",
      "REUTER REUTER\n",
      "3 3\n"
     ]
    },
    {
     "name": "stderr",
     "output_type": "stream",
     "text": [
      "[nltk_data] Downloading package wordnet to\n",
      "[nltk_data]     C:\\Users\\giann\\AppData\\Roaming\\nltk_data...\n",
      "[nltk_data]   Package wordnet is already up-to-date!\n",
      "[nltk_data] Downloading package omw-1.4 to\n",
      "[nltk_data]     C:\\Users\\giann\\AppData\\Roaming\\nltk_data...\n",
      "[nltk_data]   Package omw-1.4 is already up-to-date!\n",
      "[nltk_data] Downloading package averaged_perceptron_tagger to\n",
      "[nltk_data]     C:\\Users\\giann\\AppData\\Roaming\\nltk_data...\n",
      "[nltk_data]   Package averaged_perceptron_tagger is already up-to-\n",
      "[nltk_data]       date!\n"
     ]
    }
   ],
   "source": [
    "# Lemmatization\n",
    "# Προσοχή! Πρέπει να δημιουργηθεί για κάθε λέξη ένα tag το οποίο να υποδυκνύει την φύση της λέξης\n",
    "import nltk\n",
    "nltk.download('wordnet')\n",
    "nltk.download('omw-1.4')\n",
    "nltk.download(\"averaged_perceptron_tagger\")\n",
    "from nltk.stem import WordNetLemmatizer\n",
    "from nltk import pos_tag\n",
    "lemmatizer = WordNetLemmatizer()\n",
    "tokenized_s_new = []\n",
    "for word,tag in pos_tag(tokenized_s):\n",
    "    wntag = tag[0].lower()\n",
    "    wntag = wntag if wntag in ['a', 'r', 'n', 'v'] else None\n",
    "    lemma = lemmatizer.lemmatize(word, wntag) if wntag else word\n",
    "    print (lemma, word)\n",
    "    tokenized_s_new.append(lemma)\n",
    "\n",
    "\n"
   ]
  },
  {
   "cell_type": "code",
   "execution_count": 62,
   "id": "16b55c07",
   "metadata": {},
   "outputs": [
    {
     "name": "stdout",
     "output_type": "stream",
     "text": [
      "['New', 'Zealands', 'current', 'account', 'deficit', 'quarter', 'end', 'December', '31', '1986', 'narrow', '567', 'mln', 'dlrs', '738', 'mln', 'revise', '742', 'mln', 'September', 'quarter', '733', 'mln', 'year', 'earlier', 'statistic', 'department', 'say', 'deficit', 'year', 'end', 'December', 'narrow', '275', 'billion', 'dlrs', '291', 'billion', 'dlrs', 'revise', '292', 'billion', 'year', 'end', 'September', 'deficit', 'calendar', '1985', '261', 'billion', 'December', 'quarter', 'show', '182', 'mln', 'dlr', 'surplus', 'merchandise', 'trade', 'unchanged', 'September', 'quarter', 'surplus', 'revise', '271', 'mln', 'dlrs', '1985', 'December', 'quarter', 'show', '13', 'mln', 'dlr', 'deficit', 'Imports', 'December', '1986', 'quarter', '2655', 'billion', '2883', 'billion', 'September', 'quarter', '2454', 'year', 'earlier', 'Exports', '2837', 'billion', '3065', 'billion', '2440', 'billion', 'Imports', 'year', 'end', 'December', '1986', '1074', 'billion', 'dlrs', 'compare', '1114', 'billion', '1985', 'Exports', '1120', 'billion', '1136', 'billion', 'Government', 'borrow', 'stand', '926', 'billion', 'dlrs', 'calendar', '1986', '315', 'billion', '1985', 'Borrowing', 'December', 'quarter', 'rise', '392', 'billion', '179', 'September', 'quarter', '611', 'mln', 'year', 'earlier', 'Repayments', 'stand', '55', 'billion', 'year', '31', 'billion', '1985', 'Repayments', 'December', 'quarter', 'account', '14', 'billion', 'dlrs', '260', 'mln', 'September', 'quarter', '334', 'mln', 'year', 'earlier', 'Official', 'reserve', 'total', '7205', 'billion', 'dlrs', 'end', 'December', 'compare', '4723', 'billion', 'end', 'September', '3255', 'billion', 'one', 'year', 'earlier', 'REUTER', '3']\n"
     ]
    },
    {
     "name": "stderr",
     "output_type": "stream",
     "text": [
      "[nltk_data] Downloading package stopwords to\n",
      "[nltk_data]     C:\\Users\\giann\\AppData\\Roaming\\nltk_data...\n",
      "[nltk_data]   Package stopwords is already up-to-date!\n"
     ]
    }
   ],
   "source": [
    "# Stop Word Removal \n",
    "from nltk.corpus import stopwords\n",
    "nltk.download(\"stopwords\")\n",
    "stop_words = set(stopwords.words(\"english\"))\n",
    "tokenized_s_new = [word for word in tokenized_s_new if not word.lower() in stop_words]\n",
    "print(tokenized_s_new)"
   ]
  },
  {
   "cell_type": "code",
   "execution_count": 82,
   "id": "7e6f8be7",
   "metadata": {},
   "outputs": [
    {
     "name": "stderr",
     "output_type": "stream",
     "text": [
      "[nltk_data] Downloading package punkt to\n",
      "[nltk_data]     C:\\Users\\giann\\AppData\\Roaming\\nltk_data...\n",
      "[nltk_data]   Package punkt is already up-to-date!\n",
      "[nltk_data] Downloading package wordnet to\n",
      "[nltk_data]     C:\\Users\\giann\\AppData\\Roaming\\nltk_data...\n",
      "[nltk_data]   Package wordnet is already up-to-date!\n",
      "[nltk_data] Downloading package omw-1.4 to\n",
      "[nltk_data]     C:\\Users\\giann\\AppData\\Roaming\\nltk_data...\n",
      "[nltk_data]   Package omw-1.4 is already up-to-date!\n",
      "[nltk_data] Downloading package averaged_perceptron_tagger to\n",
      "[nltk_data]     C:\\Users\\giann\\AppData\\Roaming\\nltk_data...\n",
      "[nltk_data]   Package averaged_perceptron_tagger is already up-to-\n",
      "[nltk_data]       date!\n",
      "[nltk_data] Downloading package stopwords to\n",
      "[nltk_data]     C:\\Users\\giann\\AppData\\Roaming\\nltk_data...\n",
      "[nltk_data]   Package stopwords is already up-to-date!\n"
     ]
    }
   ],
   "source": [
    "# complete method \n",
    "# Imports and nltk specific downloads\n",
    "import string\n",
    "from nltk.tokenize import word_tokenize\n",
    "import nltk\n",
    "from nltk.stem import WordNetLemmatizer\n",
    "from nltk import pos_tag\n",
    "from nltk.corpus import stopwords\n",
    "\n",
    "nltk.download(\"punkt\")\n",
    "nltk.download('wordnet')\n",
    "nltk.download('omw-1.4')\n",
    "nltk.download(\"averaged_perceptron_tagger\")\n",
    "nltk.download(\"stopwords\")\n",
    "\n",
    "def preprocess_txt(input_txt) -> list: \n",
    "    text_in_lines = []\n",
    "    for line in input_txt: \n",
    "        # Punctuation Removal\n",
    "        exclude = set(string.punctuation)\n",
    "        s = ''.join(ch for ch in lines[0] if ch not in exclude)\n",
    "        \n",
    "        # Text Lowering\n",
    "        s = s.lower()\n",
    "        \n",
    "        # Tokenization\n",
    "        tokenized_s = word_tokenize(s)\n",
    "        \n",
    "        # Lemmatization\n",
    "        lemmatizer = WordNetLemmatizer()\n",
    "        tokenized_s_new = []\n",
    "        for word,tag in pos_tag(tokenized_s):\n",
    "            wntag = tag[0].lower()\n",
    "            wntag = wntag if wntag in ['a', 'r', 'n', 'v'] else None\n",
    "            lemma = lemmatizer.lemmatize(word, wntag) if wntag else word\n",
    "            tokenized_s_new.append(lemma)\n",
    "        \n",
    "        # Stop Word Removal \n",
    "        stop_words = set(stopwords.words(\"english\"))\n",
    "        tokenized_s_new = [word for word in tokenized_s_new if not word.lower() in stop_words]\n",
    "        text_in_lines = text_in_lines + tokenized_s_new\n",
    "        return text_in_lines\n",
    "        "
   ]
  },
  {
   "cell_type": "code",
   "execution_count": 84,
   "id": "d69c6eaa",
   "metadata": {},
   "outputs": [
    {
     "name": "stdout",
     "output_type": "stream",
     "text": [
      "['new', 'zealand', 'current', 'account', 'deficit', 'quarter', 'end', 'december', '31', '1986', 'narrow', '567', 'mln', 'dlrs', '738', 'mln', 'revise', '742', 'mln', 'september', 'quarter', '733', 'mln', 'year', 'earlier', 'statistic', 'department', 'say', 'deficit', 'year', 'end', 'december', 'narrow', '275', 'billion', 'dlrs', '291', 'billion', 'dlrs', 'revise', '292', 'billion', 'year', 'end', 'september', 'deficit', 'calendar', '1985', '261', 'billion', 'december', 'quarter', 'show', '182', 'mln', 'dlr', 'surplus', 'merchandise', 'trade', 'unchanged', 'september', 'quarter', 'surplus', 'revise', '271', 'mln', 'dlrs', '1985', 'december', 'quarter', 'show', '13', 'mln', 'dlr', 'deficit', 'import', 'december', '1986', 'quarter', '2655', 'billion', '2883', 'billion', 'september', 'quarter', '2454', 'year', 'earlier', 'export', '2837', 'billion', '3065', 'billion', '2440', 'billion', 'import', 'year', 'end', 'december', '1986', '1074', 'billion', 'dlrs', 'compare', '1114', 'billion', '1985', 'export', '1120', 'billion', '1136', 'billion', 'government', 'borrow', 'stand', '926', 'billion', 'dlrs', 'calendar', '1986', '315', 'billion', '1985', 'borrowing', 'december', 'quarter', 'rise', '392', 'billion', '179', 'september', 'quarter', '611', 'mln', 'year', 'earlier', 'repayment', 'stand', '55', 'billion', 'year', '31', 'billion', '1985', 'repayment', 'december', 'quarter', 'account', '14', 'billion', 'dlrs', '260', 'mln', 'september', 'quarter', '334', 'mln', 'year', 'earlier', 'official', 'reserve', 'total', '7205', 'billion', 'dlrs', 'end', 'december', 'compare', '4723', 'billion', 'end', 'september', '3255', 'billion', 'one', 'year', 'earlier', 'reuter', '3']\n"
     ]
    }
   ],
   "source": [
    "pre_txt = preprocess_txt(lines)\n",
    "print(pre_txt)"
   ]
  },
  {
   "cell_type": "markdown",
   "id": "f38f7520",
   "metadata": {},
   "source": [
    "## Άσκηση 3η - Αναδρομική εξερεύνηση φακέλων για αρχεία\n",
    "Τέλος οι φοιτητές καλούνται να δημιουργήσουν μια μέθοδο η οποία να μπορεί να διατρέξει όλους τους υποφακέλους ενός φακέλου, να διαβάσει αρχεία τα οποία περιέχουν κείμενο και να εφαρμόσει τις μεθόδους οι οποίες αναπτύχθηκαν στις δύο προηγούμενες ασκήσεις. \n",
    "\n",
    "Το συγκεκριμέο μπορεί να πραγματοποιηθεί με την χρήση είτε for loop και της built-in βιβλιοθήκης os είτε με την χρήση της βιβλιοθήκης glob."
   ]
  },
  {
   "cell_type": "code",
   "execution_count": 28,
   "id": "d0571b6b",
   "metadata": {},
   "outputs": [
    {
     "name": "stdout",
     "output_type": "stream",
     "text": [
      "navigator\n",
      "adbkey\n",
      "uml\n",
      "argv.json\n",
      "vpn\n",
      "environments.txt\n",
      "anaconda-client\n",
      ".buildNodeID\n",
      "5.0.401_IsDockerContainer.dotnetUserLevelCache\n",
      "Image Classification Assignment-checkpoint.ipynb\n",
      "extensions\n",
      "migrated\n",
      "datasets\n",
      "russia\n",
      "fontlist-v330.json\n",
      "blender\n",
      "logs\n",
      "config\n",
      "known_hosts\n",
      "selectorwindow.log\n",
      "desktop.ini\n",
      ".nonadmin\n",
      "Local\n"
     ]
    },
    {
     "ename": "PermissionError",
     "evalue": "[WinError 5] Access is denied: 'C:\\\\Users\\\\giann\\\\Application Data'",
     "output_type": "error",
     "traceback": [
      "\u001b[1;31m---------------------------------------------------------------------------\u001b[0m",
      "\u001b[1;31mPermissionError\u001b[0m                           Traceback (most recent call last)",
      "\u001b[1;32m~\\AppData\\Local\\Temp/ipykernel_6048/1847215665.py\u001b[0m in \u001b[0;36m<module>\u001b[1;34m\u001b[0m\n\u001b[0;32m      3\u001b[0m \u001b[1;32mfor\u001b[0m \u001b[0mitem\u001b[0m \u001b[1;32min\u001b[0m \u001b[0mos\u001b[0m\u001b[1;33m.\u001b[0m\u001b[0mlistdir\u001b[0m\u001b[1;33m(\u001b[0m\u001b[0mroot\u001b[0m\u001b[1;33m)\u001b[0m\u001b[1;33m:\u001b[0m\u001b[1;33m\u001b[0m\u001b[1;33m\u001b[0m\u001b[0m\n\u001b[0;32m      4\u001b[0m     \u001b[1;32mif\u001b[0m \u001b[0mos\u001b[0m\u001b[1;33m.\u001b[0m\u001b[0mpath\u001b[0m\u001b[1;33m.\u001b[0m\u001b[0misdir\u001b[0m\u001b[1;33m(\u001b[0m\u001b[0mroot\u001b[0m \u001b[1;33m+\u001b[0m\u001b[1;34m\"\\\\\"\u001b[0m \u001b[1;33m+\u001b[0m \u001b[0mitem\u001b[0m\u001b[1;33m)\u001b[0m\u001b[1;33m:\u001b[0m \u001b[1;31m# if item is folder\u001b[0m\u001b[1;33m\u001b[0m\u001b[1;33m\u001b[0m\u001b[0m\n\u001b[1;32m----> 5\u001b[1;33m         \u001b[1;32mfor\u001b[0m \u001b[0mitem_\u001b[0m \u001b[1;32min\u001b[0m \u001b[0mos\u001b[0m\u001b[1;33m.\u001b[0m\u001b[0mlistdir\u001b[0m\u001b[1;33m(\u001b[0m\u001b[0mroot\u001b[0m \u001b[1;33m+\u001b[0m\u001b[1;34m\"\\\\\"\u001b[0m \u001b[1;33m+\u001b[0m \u001b[0mitem\u001b[0m\u001b[1;33m)\u001b[0m\u001b[1;33m:\u001b[0m\u001b[1;33m\u001b[0m\u001b[1;33m\u001b[0m\u001b[0m\n\u001b[0m\u001b[0;32m      6\u001b[0m             \u001b[0mprint\u001b[0m\u001b[1;33m(\u001b[0m\u001b[0mitem_\u001b[0m\u001b[1;33m)\u001b[0m\u001b[1;33m\u001b[0m\u001b[1;33m\u001b[0m\u001b[0m\n\u001b[0;32m      7\u001b[0m             \u001b[1;32mbreak\u001b[0m\u001b[1;33m\u001b[0m\u001b[1;33m\u001b[0m\u001b[0m\n",
      "\u001b[1;31mPermissionError\u001b[0m: [WinError 5] Access is denied: 'C:\\\\Users\\\\giann\\\\Application Data'"
     ]
    }
   ],
   "source": [
    "import os \n",
    "root = r\"C:\\Users\\giann\"\n",
    "for item in os.listdir(root):\n",
    "    if os.path.isdir(root +\"\\\\\" + item): # if item is folder\n",
    "        for item_ in os.listdir(root +\"\\\\\" + item):\n",
    "            print(item_)\n",
    "            break\n",
    "   "
   ]
  },
  {
   "cell_type": "markdown",
   "id": "af5c0422",
   "metadata": {},
   "source": [
    " \n",
    "Αναδρομική εξερεύνηση φακέλων για την εύρεση αρχείων με την χρήση της βιβλιοθήκης **glob** \n",
    "\n",
    "Η χρήση της βιβλιοθήκης glob μας επιτρέπει να ψάξουμε αναδρομικά μια διαδρομή φακέλων και υποφακέλων για αρχεία είτε γενικώς είτε μιας συγκεκριμένης μορφής.  Τα παρακάτω παραδείγματα κώδικα μας δείχνουν \n",
    "\n",
    "Αναλυτική περιγραφή της βιβλιοθήκης glob μπορεί να βρεθεί στον παρακάτω σύνδεσμο: \n",
    "https://docs.python.org/3/library/glob.html\n"
   ]
  },
  {
   "cell_type": "code",
   "execution_count": 14,
   "id": "d9e92e7b",
   "metadata": {},
   "outputs": [
    {
     "name": "stdout",
     "output_type": "stream",
     "text": [
      "['C:\\\\Users\\\\giann']\n"
     ]
    }
   ],
   "source": [
    "import glob \n",
    "print(glob.glob(\"C:\\\\Users\\\\giann\"))"
   ]
  },
  {
   "cell_type": "code",
   "execution_count": 15,
   "id": "6dbb644c",
   "metadata": {},
   "outputs": [
    {
     "name": "stdout",
     "output_type": "stream",
     "text": [
      "['C:\\\\Users\\\\giann\\\\-1.14-windows.xml', 'C:\\\\Users\\\\giann\\\\3D Objects', 'C:\\\\Users\\\\giann\\\\anaconda3', 'C:\\\\Users\\\\giann\\\\ansel', 'C:\\\\Users\\\\giann\\\\AppData', 'C:\\\\Users\\\\giann\\\\Application Data', 'C:\\\\Users\\\\giann\\\\autokerasmodel.h5', 'C:\\\\Users\\\\giann\\\\clusters.json', 'C:\\\\Users\\\\giann\\\\Contacts', 'C:\\\\Users\\\\giann\\\\Cookies', 'C:\\\\Users\\\\giann\\\\Documents', 'C:\\\\Users\\\\giann\\\\Downloads', 'C:\\\\Users\\\\giann\\\\Favorites', 'C:\\\\Users\\\\giann\\\\final_pipeline_predictions.csv', 'C:\\\\Users\\\\giann\\\\getting-started', 'C:\\\\Users\\\\giann\\\\Image Classification Assignment.ipynb', 'C:\\\\Users\\\\giann\\\\Image Regression Assignment.ipynb', 'C:\\\\Users\\\\giann\\\\IntelGraphicsProfiles', 'C:\\\\Users\\\\giann\\\\java_error_in_pycharm64.hprof', 'C:\\\\Users\\\\giann\\\\Jedi', 'C:\\\\Users\\\\giann\\\\lab1.ipynb', 'C:\\\\Users\\\\giann\\\\Lab1_example.txt', 'C:\\\\Users\\\\giann\\\\Lab2.ipynb', 'C:\\\\Users\\\\giann\\\\left', 'C:\\\\Users\\\\giann\\\\Lightworks', 'C:\\\\Users\\\\giann\\\\Links', 'C:\\\\Users\\\\giann\\\\Local Settings', 'C:\\\\Users\\\\giann\\\\Music', 'C:\\\\Users\\\\giann\\\\NetHood', 'C:\\\\Users\\\\giann\\\\NTUSER.DAT', 'C:\\\\Users\\\\giann\\\\ntuser.dat.LOG1', 'C:\\\\Users\\\\giann\\\\ntuser.dat.LOG2', 'C:\\\\Users\\\\giann\\\\NTUSER.DAT{53b39e88-18c4-11ea-a811-000d3aa4692b}.TM.blf', 'C:\\\\Users\\\\giann\\\\NTUSER.DAT{53b39e88-18c4-11ea-a811-000d3aa4692b}.TMContainer00000000000000000001.regtrans-ms', 'C:\\\\Users\\\\giann\\\\NTUSER.DAT{53b39e88-18c4-11ea-a811-000d3aa4692b}.TMContainer00000000000000000002.regtrans-ms', 'C:\\\\Users\\\\giann\\\\NTUSER.DAT{e4ecbd7e-a9a4-11eb-9b60-a8a159608f4a}.TxR.0.regtrans-ms', 'C:\\\\Users\\\\giann\\\\NTUSER.DAT{e4ecbd7e-a9a4-11eb-9b60-a8a159608f4a}.TxR.1.regtrans-ms', 'C:\\\\Users\\\\giann\\\\NTUSER.DAT{e4ecbd7e-a9a4-11eb-9b60-a8a159608f4a}.TxR.2.regtrans-ms', 'C:\\\\Users\\\\giann\\\\NTUSER.DAT{e4ecbd7e-a9a4-11eb-9b60-a8a159608f4a}.TxR.blf', 'C:\\\\Users\\\\giann\\\\NTUSER.DAT{e4ecbd7f-a9a4-11eb-9b60-a8a159608f4a}.TM.blf', 'C:\\\\Users\\\\giann\\\\NTUSER.DAT{e4ecbd7f-a9a4-11eb-9b60-a8a159608f4a}.TMContainer00000000000000000001.regtrans-ms', 'C:\\\\Users\\\\giann\\\\NTUSER.DAT{e4ecbd7f-a9a4-11eb-9b60-a8a159608f4a}.TMContainer00000000000000000002.regtrans-ms', 'C:\\\\Users\\\\giann\\\\ntuser.ini', 'C:\\\\Users\\\\giann\\\\OneDrive', 'C:\\\\Users\\\\giann\\\\ontospy-viz-test', 'C:\\\\Users\\\\giann\\\\Postman', 'C:\\\\Users\\\\giann\\\\prepare_resources_graph.ipynb', 'C:\\\\Users\\\\giann\\\\PrintHood', 'C:\\\\Users\\\\giann\\\\PycharmProjects', 'C:\\\\Users\\\\giann\\\\Recent', 'C:\\\\Users\\\\giann\\\\right', 'C:\\\\Users\\\\giann\\\\Saved Games', 'C:\\\\Users\\\\giann\\\\Searches', 'C:\\\\Users\\\\giann\\\\SendTo', 'C:\\\\Users\\\\giann\\\\Start Menu', 'C:\\\\Users\\\\giann\\\\Templates', 'C:\\\\Users\\\\giann\\\\Untitled.ipynb', 'C:\\\\Users\\\\giann\\\\Videos', 'C:\\\\Users\\\\giann\\\\VirtualBox VMs', 'C:\\\\Users\\\\giann\\\\Xtest.txt', 'C:\\\\Users\\\\giann\\\\Xtrain.txt', 'C:\\\\Users\\\\giann\\\\Ytrain.htm', 'C:\\\\Users\\\\giann\\\\Ytrain.txt', 'C:\\\\Users\\\\giann\\\\Τα έγγραφά μου']\n"
     ]
    }
   ],
   "source": [
    "print(glob.glob(\"C:\\\\Users\\\\giann\\**\"))"
   ]
  },
  {
   "cell_type": "code",
   "execution_count": 16,
   "id": "3094e349",
   "metadata": {},
   "outputs": [
    {
     "data": {
      "text/plain": [
       "['C:\\\\Users\\\\giann\\\\anaconda3\\\\LICENSE_PYTHON.txt',\n",
       " 'C:\\\\Users\\\\giann\\\\Downloads\\\\describe_nodes.txt',\n",
       " 'C:\\\\Users\\\\giann\\\\getting-started\\\\requirements.txt']"
      ]
     },
     "execution_count": 16,
     "metadata": {},
     "output_type": "execute_result"
    }
   ],
   "source": [
    "glob.glob(\"C:\\\\Users\\\\giann\\**\\*.txt\")"
   ]
  },
  {
   "cell_type": "markdown",
   "id": "8da133f2",
   "metadata": {},
   "source": [
    "## Bonus - Reading Txt from PDF"
   ]
  },
  {
   "cell_type": "markdown",
   "id": "e1dfa92d",
   "metadata": {},
   "source": [
    "Ακόμη κείμενο μπορεί να εξαχθεί από αρχεία pdf με την χρήση της βιβλιοθήκης fitz. "
   ]
  },
  {
   "cell_type": "code",
   "execution_count": null,
   "id": "f30ac416",
   "metadata": {},
   "outputs": [],
   "source": [
    "Import fitz \n",
    "\n",
    "pdf = fitz.open(\"test.pdf\")\n",
    "for pagenum, page in enumerate(pdf.pages(), start=1):\n",
    "    page_txt = page.get_text()\n",
    "    print(page_txt)"
   ]
  }
 ],
 "metadata": {
  "kernelspec": {
   "display_name": "Python 3 (ipykernel)",
   "language": "python",
   "name": "python3"
  },
  "language_info": {
   "codemirror_mode": {
    "name": "ipython",
    "version": 3
   },
   "file_extension": ".py",
   "mimetype": "text/x-python",
   "name": "python",
   "nbconvert_exporter": "python",
   "pygments_lexer": "ipython3",
   "version": "3.10.0"
  }
 },
 "nbformat": 4,
 "nbformat_minor": 5
}
