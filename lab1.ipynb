{
 "cells": [
  {
   "cell_type": "markdown",
   "id": "77ca5be2",
   "metadata": {},
   "source": [
    "# Εργαστήριο 1ο \n",
    "Σκοπός του εργαστηρίου είναι η προσπέλαση αρχείων τα οποία περιέχουν χαρακτήρες εγγράφου. "
   ]
  },
  {
   "cell_type": "markdown",
   "id": "56f85a20",
   "metadata": {},
   "source": [
    "## Ασκηση 1\n",
    "\n",
    "Ο πρώτος στόχος του εργαστρηρίου είναι η προσπέλαση ενός αρχείου, το οποίο βρίσκεται σε ορισμένη διαδρομή στον υπολογιστή και είναι σε μορφή txt, προκειμένου να διαβάσουμε τα  περιεχόμενα του και να επιστρέψουμε μια λίστα με αντικείμενα τις γραμμές. "
   ]
  },
  {
   "cell_type": "markdown",
   "id": "67e22ed9",
   "metadata": {},
   "source": [
    "### Μέθοδος 1\n",
    "Με την χρήση for loop."
   ]
  },
  {
   "cell_type": "code",
   "execution_count": 45,
   "id": "eca1d2ce",
   "metadata": {},
   "outputs": [],
   "source": [
    "def parse_txt(filepath:str,  encoding=\"utf8\") -> list:\n",
    "    lines_list = []\n",
    "    with open(filepath,\"r+\", encoding=encoding) as f: \n",
    "        for line in f: \n",
    "            if line.strip():\n",
    "                lines_list.append(line)\n",
    "                \n",
    "    return lines_list"
   ]
  },
  {
   "cell_type": "code",
   "execution_count": 47,
   "id": "993fb1d9",
   "metadata": {},
   "outputs": [
    {
     "name": "stdout",
     "output_type": "stream",
     "text": [
      "<generator object <genexpr> at 0x0000023ED65C3530>\n"
     ]
    }
   ],
   "source": [
    "lines = parse_txt(\"C:\\\\Users\\\\giann\\Lab1_example.txt\")\n",
    "print(lines[::5])"
   ]
  },
  {
   "cell_type": "markdown",
   "id": "6df6f341",
   "metadata": {},
   "source": [
    "### Μεθοδος 2 \n",
    "Με την χρήση της .readlines()"
   ]
  },
  {
   "cell_type": "code",
   "execution_count": 43,
   "id": "a8b99fc0",
   "metadata": {},
   "outputs": [],
   "source": [
    "def parse_txt(filepath:str, encoding=\"utf8\") -> list:\n",
    "    with open(filepath,\"r+\", encoding=encoding\n",
    "             ) as f: \n",
    "        lines = f.readlines()\n",
    "    return lines\n"
   ]
  },
  {
   "cell_type": "code",
   "execution_count": 44,
   "id": "23718343",
   "metadata": {},
   "outputs": [
    {
     "name": "stdout",
     "output_type": "stream",
     "text": [
      "['That very month was September, and as fine as you could ask. A day or two later a rumour (probably started by the knowledgeable Sam) was spread about that there were going to be fireworks - fireworks, what is more, such as had not been seen in the Shire for nigh on a century, not indeed since the Old Took died.', 'That very month was September, and as fine as you could ask. A day or two later a rumour (probably started by the knowledgeable Sam) was spread about that there were going to be fireworks - fireworks, what is more, such as had not been seen in the Shire for nigh on a century, not indeed since the Old Took died.', 'That very month was September, and as fine as you could ask. A day or two later a rumour (probably started by the knowledgeable Sam) was spread about that there were going to be fireworks - fireworks, what is more, such as had not been seen in the Shire for nigh on a century, not indeed since the Old Took died.', 'That very month was September, and as fine as you could ask. A day or two later a rumour (probably started by the knowledgeable Sam) was spread about that there were going to be fireworks - fireworks, what is more, such as had not been seen in the Shire for nigh on a century, not indeed since the Old Took died.', 'That very month was September, and as fine as you could ask. A day or two later a rumour (probably started by the knowledgeable Sam) was spread about that there were going to be fireworks - fireworks, what is more, such as had not been seen in the Shire for nigh on a century, not indeed since the Old Took died.']\n"
     ]
    }
   ],
   "source": [
    "lines = parse_txt(\"C:\\\\Users\\\\giann\\Lab1_example.txt\")\n",
    "lines = [line for l in lines if l.strip()]\n",
    "print(lines[::5])\n"
   ]
  },
  {
   "cell_type": "code",
   "execution_count": 54,
   "id": "2f3aec9a",
   "metadata": {},
   "outputs": [
    {
     "name": "stdout",
     "output_type": "stream",
     "text": [
      "asd\n",
      "okl\n"
     ]
    }
   ],
   "source": [
    "test = \"\\n asd\"\n",
    "print(test.strip())\n",
    "if test.strip():\n",
    "    print(\"okl\")"
   ]
  },
  {
   "cell_type": "markdown",
   "id": "780969bc",
   "metadata": {},
   "source": [
    "### Encoding - Decoding\n",
    "Το πρώτο πρόβλημα το οποίο παρουσιάζεται στην μέθοδο έρχεται από το encoding και αντίστοιχα decoding των χαρακτήρων. Κάθε χαρακτήρας μεταφέρεται ως byte και εδω βλέπουμε ότι \n",
    "\n",
    "### Κενές γραμμές\n",
    "Ακόμη το κείμενο περιέχει κενές γραμμές τις οποίες πιθανώνα μην τις χρειαζόμαστε ως έξοδο της μεθόδου. Για να τις παρακάμψουμε θα χρησιμοποιήσουμε την μέθοδο .strip() η οποία εφαρμόζεται σε strings. \n"
   ]
  },
  {
   "cell_type": "markdown",
   "id": "1b47d218",
   "metadata": {},
   "source": [
    "## ΄Άσκηση 2 \n",
    "Να δημιουργηθεί μια μέθοδος η οποία κάνει tokenize αλφαρηθμιτικούς χαρακτήρες"
   ]
  },
  {
   "cell_type": "code",
   "execution_count": 56,
   "id": "bf0f9e5c",
   "metadata": {},
   "outputs": [],
   "source": [
    "def tokenize_line(line):\n",
    "    return line.split()"
   ]
  },
  {
   "cell_type": "code",
   "execution_count": 60,
   "id": "55e0c2cf",
   "metadata": {},
   "outputs": [
    {
     "data": {
      "text/plain": [
       "['When',\n",
       " 'Mr.',\n",
       " 'Bilbo',\n",
       " 'Baggins',\n",
       " 'of',\n",
       " 'Bag',\n",
       " 'End',\n",
       " 'announced',\n",
       " 'that',\n",
       " 'he',\n",
       " 'would',\n",
       " 'shortly',\n",
       " 'be',\n",
       " 'celebrating',\n",
       " 'his',\n",
       " 'eleventy-first',\n",
       " 'birthday',\n",
       " 'with',\n",
       " 'a',\n",
       " 'party',\n",
       " 'of',\n",
       " 'special',\n",
       " 'magnificence,',\n",
       " 'there',\n",
       " 'was',\n",
       " 'much',\n",
       " 'talk',\n",
       " 'and',\n",
       " 'excitement',\n",
       " 'in',\n",
       " 'Hobbiton.']"
      ]
     },
     "execution_count": 60,
     "metadata": {},
     "output_type": "execute_result"
    }
   ],
   "source": [
    "tokenize_line(lines[0])"
   ]
  },
  {
   "cell_type": "code",
   "execution_count": null,
   "id": "16b55c07",
   "metadata": {},
   "outputs": [],
   "source": []
  }
 ],
 "metadata": {
  "kernelspec": {
   "display_name": "Python 3 (ipykernel)",
   "language": "python",
   "name": "python3"
  },
  "language_info": {
   "codemirror_mode": {
    "name": "ipython",
    "version": 3
   },
   "file_extension": ".py",
   "mimetype": "text/x-python",
   "name": "python",
   "nbconvert_exporter": "python",
   "pygments_lexer": "ipython3",
   "version": "3.10.0"
  }
 },
 "nbformat": 4,
 "nbformat_minor": 5
}
