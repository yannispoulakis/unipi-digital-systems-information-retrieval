{
 "cells": [
  {
   "cell_type": "markdown",
   "id": "385b1a11",
   "metadata": {},
   "source": [
    "# Εργαστήριο 2 - Κατασκευή Αντεστραμμένου Ευρετηρίου με Πίνακα Κατακερματισμού. "
   ]
  },
  {
   "cell_type": "markdown",
   "id": "66f5ca0d",
   "metadata": {},
   "source": [
    "Στο δεύτερο εργαστήριο καλείστε να υλοποιήσετε ένα αντεστραμμένο ευρετήριο (inverted index) κύριας μνήμης το οποίο θα γεμίσετε με τα περιεχόμενα της συλλογής δεδομένων Reuters, μέσω του parser που φτιάξατε στο πρώτο εργαστήριο. \n",
    "\n",
    "Η λειτουργικότητα του αντεστραμμένου ευρετηρίου, που μπορεί να υλοποιηθεί σαν μια κλάση, αποτελείται από τα εξής:\n",
    "\n",
    "•\tΗ βασική δομή δεδομένων που θα χρησιμοποιηθεί θα είναι ένας πίνακας κατακερματισμού (για το λεξικό) και ταξινομημένες λίστες (για τις λίστες καταχώρησης). Η ταξινομημένη λίστα θα χρησιμοποιηθεί ένα απλό ArrayList, αλλά θα μπορούσε κανείς να χρησιμοποιήσει μια SortedList. Για τις ανάγκες αυτού του εργαστηρίου αρκεί το ArrayList, με την προϋπόθεση ότι θα δίνετε έναν αύξων αριθμό ως (αναγνωριστικό εγγράφου) σε κάθε έγγραφο της συλλογής που κάνετε parse.\n",
    "\n",
    "------------------\n",
    "\n",
    "•\tΗ μέθοδος insert επιτρέπει την εισαγωγή ενός αναγνωριστικού εγγράφου (nDocID) που σχετίζεται με κάποιον όρο (sTerm), όταν αυτός συναντάται σε ένα έγγραφο. \n",
    "\n",
    "------------------\n",
    "\n",
    "•\tΗ μέθοδος get επιστρέφει για έναν όρο (sTerm) την ταξινομημένη λίστα με τα αναγνωριστικά εγγράφων που αντιστοιχούν σε αυτόν τον όρο (ουσιαστικά τα έγγραφα στα οποία περιέχεται ο όρος).\n",
    "\n",
    "------------------\n",
    "\n",
    "•\tΗ μέθοδος print εκτυπώνει τα περιεχόμενα στην οθόνη, και χρησιμοποιείται για debugging.\n",
    "\n",
    "------------------\n"
   ]
  },
  {
   "cell_type": "code",
   "execution_count": null,
   "id": "0155f750",
   "metadata": {},
   "outputs": [],
   "source": [
    "class inverted_index: \n",
    "    def __init"
   ]
  },
  {
   "cell_type": "code",
   "execution_count": 13,
   "id": "6888a8b9",
   "metadata": {},
   "outputs": [],
   "source": [
    "# Get Hash key \n",
    "def get_hash(key, list_size):\n",
    "    h = 0\n",
    "    for char in key: \n",
    "        h += ord(char) # ASCII value\n",
    "    return h % list_size"
   ]
  },
  {
   "cell_type": "code",
   "execution_count": 14,
   "id": "63d4542b",
   "metadata": {},
   "outputs": [
    {
     "data": {
      "text/plain": [
       "31"
      ]
     },
     "execution_count": 14,
     "metadata": {},
     "output_type": "execute_result"
    }
   ],
   "source": [
    "get_hash(\"input to gethash\", 104)"
   ]
  },
  {
   "cell_type": "markdown",
   "id": "d9f2b324",
   "metadata": {},
   "source": [
    "Σχετικά με την hash function, υπάρχει μια πληθώρα από κατάλληλες συναρτήσεις. Στα πλαίσια του εργαστηρίου χρησιμοποιείται η κωδικοποίηση χαρακτήρων με βάση τον  **ASCII** ( https://el.wikipedia.org/wiki/ASCII )."
   ]
  },
  {
   "cell_type": "code",
   "execution_count": 27,
   "id": "763342aa",
   "metadata": {},
   "outputs": [],
   "source": [
    "class HashTable: \n",
    "    def __init__(self):\n",
    "        self.max = 100\n",
    "        self.arr = [None for i in range(self.max)]\n",
    "        \n",
    "    def get_hash(self, key):\n",
    "        h = 0\n",
    "        for char in key: \n",
    "            h += ord(char) # ASCII value\n",
    "        return h % self.max\n",
    "        \n",
    "    def add(self, key, val):\n",
    "        h = self.get_hash(key)\n",
    "        self.arr[h] = val\n",
    "        \n",
    "        \n",
    "    def get(self,key):\n",
    "        h = self.get_hash(key)\n",
    "        return self.arr[h] \n",
    "    \n",
    "    \n",
    "    def delete(self, key):\n",
    "        h = self.get_hash(key)\n",
    "        self.arr[h] = None\n",
    "        \n",
    "    def print(self):\n",
    "        print(self.arr)"
   ]
  },
  {
   "cell_type": "code",
   "execution_count": 28,
   "id": "aedadfe2",
   "metadata": {},
   "outputs": [
    {
     "name": "stdout",
     "output_type": "stream",
     "text": [
      "[None, None, None, None, None, None, None, None, None, None, None, None, None, None, None, None, None, None, None, None, None, None, None, None, None, None, None, None, None, None, None, None, None, None, None, None, None, None, None, None, None, None, None, None, None, None, None, None, None, None, None, None, None, None, None, None, None, None, None, None, None, None, None, None, None, None, None, None, None, None, None, None, 'test_value', None, None, None, None, None, None, None, None, None, None, None, None, None, None, None, None, None, None, None, None, None, None, None, None, None, None, None]\n"
     ]
    }
   ],
   "source": [
    "ht = HashTable()\n",
    "ht.add(\"test_key\", \"test_value\")\n",
    "ht.get(\"test_key\")\n",
    "ht.print()"
   ]
  },
  {
   "cell_type": "markdown",
   "id": "a09ae0f0",
   "metadata": {},
   "source": [
    " ## Python Operators\n",
    " \n",
    " Η python μας επιτρέπει την χρήση built-in μεθόδων getime και setitem τα οποία μπορούν να χρησιμοποιηθούν για τις μεθόδους get και add αντίστοιχα. Αυτή η μέθοδος μας επιτρέπει να χρησιμοποιούμε το αντίστοιχο slicing όπως σε λίστες και array της Python "
   ]
  },
  {
   "cell_type": "code",
   "execution_count": 1,
   "id": "c3fc7c10",
   "metadata": {},
   "outputs": [],
   "source": [
    "class HashTable: \n",
    "    def __init__(self):\n",
    "        self.max = 100\n",
    "        self.arr = [None for i in range(self.max)]\n",
    "        \n",
    "    def get_hash(self, key):\n",
    "        h = 0\n",
    "        for char in key: \n",
    "            h += ord(char) # ASCII value\n",
    "        return h % self.max\n",
    "        \n",
    "    def __setitem__(self, key, val):\n",
    "        h = self.get_hash(key)\n",
    "        self.arr[h] = val\n",
    "        \n",
    "        \n",
    "    def __getitem__(self,key):\n",
    "        h = self.get_hash(key)\n",
    "        return self.arr[h] \n",
    "    \n",
    "    \n",
    "    def __delitem__(self, key):\n",
    "        h = self.get_hash(key)\n",
    "        self.arr[h] = None\n",
    "        \n",
    "    def print(self):\n",
    "        print(self.arr)"
   ]
  },
  {
   "cell_type": "code",
   "execution_count": 31,
   "id": "8d5a1ac2",
   "metadata": {},
   "outputs": [
    {
     "ename": "TypeError",
     "evalue": "'HashTable' object does not support item assignment",
     "output_type": "error",
     "traceback": [
      "\u001b[1;31m---------------------------------------------------------------------------\u001b[0m",
      "\u001b[1;31mTypeError\u001b[0m                                 Traceback (most recent call last)",
      "\u001b[1;32m~\\AppData\\Local\\Temp/ipykernel_36492/1246826735.py\u001b[0m in \u001b[0;36m<module>\u001b[1;34m\u001b[0m\n\u001b[0;32m      1\u001b[0m \u001b[0mht\u001b[0m \u001b[1;33m=\u001b[0m \u001b[0mHashTable\u001b[0m\u001b[1;33m(\u001b[0m\u001b[1;33m)\u001b[0m\u001b[1;33m\u001b[0m\u001b[1;33m\u001b[0m\u001b[0m\n\u001b[1;32m----> 2\u001b[1;33m \u001b[0mht\u001b[0m\u001b[1;33m[\u001b[0m\u001b[1;34m\"test_key\"\u001b[0m\u001b[1;33m]\u001b[0m \u001b[1;33m=\u001b[0m  \u001b[1;34m\"test_value\"\u001b[0m\u001b[1;33m\u001b[0m\u001b[1;33m\u001b[0m\u001b[0m\n\u001b[0m\u001b[0;32m      3\u001b[0m \u001b[0mht\u001b[0m\u001b[1;33m[\u001b[0m\u001b[1;34m\"test_key\"\u001b[0m\u001b[1;33m]\u001b[0m\u001b[1;33m\u001b[0m\u001b[1;33m\u001b[0m\u001b[0m\n\u001b[0;32m      4\u001b[0m \u001b[0mht\u001b[0m\u001b[1;33m.\u001b[0m\u001b[0mprint\u001b[0m\u001b[1;33m(\u001b[0m\u001b[1;33m)\u001b[0m\u001b[1;33m\u001b[0m\u001b[1;33m\u001b[0m\u001b[0m\n",
      "\u001b[1;31mTypeError\u001b[0m: 'HashTable' object does not support item assignment"
     ]
    }
   ],
   "source": [
    "ht = HashTable()\n",
    "ht[\"test_key\"] =  \"test_value\"\n",
    "ht[\"test_key\"]\n",
    "ht.print()"
   ]
  },
  {
   "cell_type": "markdown",
   "id": "71c694bc",
   "metadata": {},
   "source": [
    "## Μέρος 2ο \n",
    "Τελικά, θα εμπλουτιστεί η λειτουργικότητα της κλάσης ώστε να μπορεί να αποθηκεύεται στο δίσκο και να φορτώνεται από το δίσκο. Αυτό είναι χρήσιμο για να αποφεύγεται η διαρκής ανάγνωση της συλλογής εγγράφων κάθε φορά που ξεκινάτε το πρόγραμμά σας. Για το σκοπό αυτό θα υλοποιηθούν δύο μέθοδοι write και load που εγγράφουν το ευρετήριο σε αρχείο και το φορτώνουν από το αρχείο αντίστοιχα.\n",
    "\n",
    "public void write(String sFile)\n",
    "public void load(String sFile)\n"
   ]
  },
  {
   "cell_type": "code",
   "execution_count": null,
   "id": "6e7e4bd5",
   "metadata": {},
   "outputs": [],
   "source": [
    "def write(filepath):\n",
    "    with open(\"hashmap.txt\", \"w+\") as f: \n",
    "        content = str(array)\n",
    "        f.wrtie(content)\n",
    "        f.close()\n",
    "def load():\n",
    "    with open(\"hashmap.txt\", \"r+\") as f: \n",
    "        content = f.read()\n",
    "        self.array = f.read()\n",
    "        f.close()\n",
    "    "
   ]
  },
  {
   "cell_type": "markdown",
   "id": "4e97d80a",
   "metadata": {},
   "source": [
    "## Μέρος 3ο - Collision"
   ]
  },
  {
   "cell_type": "markdown",
   "id": "7d8a3357",
   "metadata": {},
   "source": [
    "## Solution A - Chaining "
   ]
  },
  {
   "cell_type": "code",
   "execution_count": null,
   "id": "758fa578",
   "metadata": {},
   "outputs": [],
   "source": [
    "class HashTable: \n",
    "    def __init__(self):\n",
    "        self.max = 100\n",
    "        self.arr = [[] for i in range(self.max)]\n",
    "        \n",
    "    def get_hash(self, key):\n",
    "        h = 0\n",
    "        for char in key: \n",
    "            h += ord(char) # ASCII value\n",
    "        return h % self.max\n",
    "        \n",
    "    def __setitem__(self, key, val):\n",
    "        h = self.get_hash(key)\n",
    "        found = False\n",
    "        for idx, element in enumerate(self.arr[h]):\n",
    "            if len(element) ==2 and element[0]==key:\n",
    "                self.arr[h][idx] = (key,val)\n",
    "                found = True\n",
    "                break\n",
    "            if not found:\n",
    "                self.arr[h].append((key,val))\n",
    "        \n",
    "    def __getitem__(self,key):\n",
    "        h = self.get_hash(key)\n",
    "        for element in self.arr[h]:\n",
    "            if element[0] == key:\n",
    "                return element[1] \n",
    "    \n",
    "    \n",
    "    def __delitem__(self, key):\n",
    "        h = self.get_hash(key)\n",
    "        for idx, element in enumerate(self.arr[h]):\n",
    "            if element[0] == key:\n",
    "                del self.arr[h][idx] \n",
    "        \n",
    "    def print(self):\n",
    "        print(self.arr)"
   ]
  },
  {
   "cell_type": "markdown",
   "id": "e62ddc56",
   "metadata": {},
   "source": [
    "### Solution B - Linear Probing  (Άσκηση/ HW) "
   ]
  },
  {
   "cell_type": "code",
   "execution_count": null,
   "id": "8518c808",
   "metadata": {},
   "outputs": [],
   "source": [
    "# Linear Probing Hash \n",
    "def get_hash(key):\n",
    "    h = 0\n",
    "    for char in key: \n",
    "        h += ord(char) # ASCII value\n",
    "    hash_ = h % hashmap_size\n",
    "    While hashmap[hash_] != None: \n",
    "        hash_ = (hash_ + 1) % hashmap_size\n",
    "    return hash_\n",
    "\n",
    "def getitem(key):\n",
    "    while hashmap[get_hash(key)][0] != key:\n",
    "        ascii(key) +1  % hashmap_size"
   ]
  }
 ],
 "metadata": {
  "kernelspec": {
   "display_name": "Python 3 (ipykernel)",
   "language": "python",
   "name": "python3"
  },
  "language_info": {
   "codemirror_mode": {
    "name": "ipython",
    "version": 3
   },
   "file_extension": ".py",
   "mimetype": "text/x-python",
   "name": "python",
   "nbconvert_exporter": "python",
   "pygments_lexer": "ipython3",
   "version": "3.10.0"
  }
 },
 "nbformat": 4,
 "nbformat_minor": 5
}
