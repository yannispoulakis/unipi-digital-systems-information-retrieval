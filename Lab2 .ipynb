{
 "cells": [
  {
   "cell_type": "markdown",
   "id": "2e650339",
   "metadata": {},
   "source": [
    "# Εργαστήριο 2 - Κατασκευή Αντεστραμμένου Ευρετηρίου με Πίνακα Κατακερματισμού. \n",
    "## Τμήμα Ψηφιακών Συστημάτων - Πανεπιστήμιο Πειραιά\n",
    "\n",
    "Διδάσκων Καθηγητής: Δουλκερίδης Χρήστος <br />\n",
    "Υπ. Διδάκτωρας: Πουλάκης Γιάννης"
   ]
  },
  {
   "cell_type": "markdown",
   "id": "6632bb6f",
   "metadata": {},
   "source": [
    "Στο δεύτερο εργαστήριο καλείστε να υλοποιήσετε ένα αντεστραμμένο ευρετήριο (inverted index) κύριας μνήμης το οποίο θα γεμίσετε με τα περιεχόμενα της συλλογής δεδομένων Reuters, μέσω του parser που φτιάξατε στο πρώτο εργαστήριο. \n",
    "\n",
    "Η λειτουργικότητα του αντεστραμμένου ευρετηρίου, που μπορεί να υλοποιηθεί σαν μια κλάση, αποτελείται από τα εξής:\n",
    "\n",
    "•\tΗ βασική δομή δεδομένων που θα χρησιμοποιηθεί θα είναι ένας πίνακας κατακερματισμού (για το λεξικό) και ταξινομημένες λίστες (για τις λίστες καταχώρησης). Η ταξινομημένη λίστα θα χρησιμοποιηθεί ένα απλό ArrayList, αλλά θα μπορούσε κανείς να χρησιμοποιήσει μια SortedList. Για τις ανάγκες αυτού του εργαστηρίου αρκεί το ArrayList, με την προϋπόθεση ότι θα δίνετε έναν αύξων αριθμό ως (αναγνωριστικό εγγράφου) σε κάθε έγγραφο της συλλογής που κάνετε parse.\n",
    "\n",
    "•\tΗ μέθοδος insert επιτρέπει την εισαγωγή ενός αναγνωριστικού εγγράφου (nDocID) που σχετίζεται με κάποιον όρο (sTerm), όταν αυτός συναντάται σε ένα έγγραφο. \n",
    "\n",
    "•\tΗ μέθοδος get επιστρέφει για έναν όρο (sTerm) την ταξινομημένη λίστα με τα αναγνωριστικά εγγράφων που αντιστοιχούν σε αυτόν τον όρο (ουσιαστικά τα έγγραφα στα οποία περιέχεται ο όρος).\n",
    "\n",
    "•\tΗ μέθοδος print εκτυπώνει τα περιεχόμενα στην οθόνη, και χρησιμοποιείται για debugging.\n",
    "\n"
   ]
  },
  {
   "cell_type": "markdown",
   "id": "934b56e2",
   "metadata": {},
   "source": [
    "Αξίζει να σημειωθεί ότι η Python προσφέρει ενσωματωμένη την χρήση πίνακα κατακερματισμού στις μεθόδους λεξικών - dictionary, διατηρώντας τις αντίστοιχες ιδιότητες. "
   ]
  },
  {
   "cell_type": "code",
   "execution_count": 13,
   "id": "44065295",
   "metadata": {},
   "outputs": [],
   "source": [
    "# Η βασική κλάση με την μέθοδο insert\n",
    "class inverted_index: \n",
    "    def __init__(self):\n",
    "        self.dictionary = {}\n",
    "    def insert_values(self, term: str, docid: int):\n",
    "        if term in self.dictionary.keys(): \n",
    "            self.dictionary[term].append(docid)\n",
    "        else: \n",
    "            self.dictionary[term] = [docid]"
   ]
  },
  {
   "cell_type": "code",
   "execution_count": 14,
   "id": "933933da",
   "metadata": {},
   "outputs": [
    {
     "name": "stdout",
     "output_type": "stream",
     "text": [
      "{'test': [2, 3]}\n"
     ]
    }
   ],
   "source": [
    "# Παράδειγμα εισαγωγής δεδομένων \n",
    "c = inverted_index()\n",
    "c.insert_values(\"test\", 2)\n",
    "c.insert_values(\"test\", 3)\n",
    "print(c.dictionary)"
   ]
  },
  {
   "cell_type": "code",
   "execution_count": 15,
   "id": "b95ee8ef",
   "metadata": {},
   "outputs": [],
   "source": [
    "# Πρόσθεση στην βασική κλάση των μεθόδων get_values και print\n",
    "class inverted_index: \n",
    "    def __init__(self):\n",
    "        self.dictionary = {}\n",
    "    # Εισάγει δεδομένα στο λεξικό στην μορφή \n",
    "    def insert_values(self, term: str, docid: int):\n",
    "        if term in self.dictionary.keys(): \n",
    "            self.dictionary[term].append(docid)\n",
    "        else: \n",
    "            self.dictionary[term] = [docid]\n",
    "    def get_values(self, term: str):\n",
    "        return self.dictionary[term]\n",
    "    \n",
    "    def print_values(self):\n",
    "        return self.dictionary\n",
    "    "
   ]
  },
  {
   "cell_type": "code",
   "execution_count": 16,
   "id": "69dcdba4",
   "metadata": {},
   "outputs": [
    {
     "name": "stdout",
     "output_type": "stream",
     "text": [
      "Docs containing term: [2, 3]\n",
      "Contents of the inverted_index: {'test': [2, 3]}\n"
     ]
    }
   ],
   "source": [
    "c = inverted_index()\n",
    "c.insert_values(\"test\", 2)\n",
    "c.insert_values(\"test\", 3)\n",
    "print(\"Docs containing term: {}\".format(c.get_values(\"test\")))\n",
    "print(\"Contents of the inverted_index: {}\".format(c.print_values()))"
   ]
  },
  {
   "cell_type": "markdown",
   "id": "707a9d93",
   "metadata": {},
   "source": [
    "**Προσοχή** Η εκτύπωση των στοιχείων του αντεστραμμένου ευρετηρίου, δεν χρειάζεται να υλοποιηθεί σε ξεχωριστή μέθοδο, αρκεί η κλήση του αντίστοιχου στοιχείου της κλάσης. \n",
    "</br>\n",
    "ii = inverted.index() </br>\n",
    "ii.dictionary()"
   ]
  },
  {
   "cell_type": "markdown",
   "id": "9cc54945",
   "metadata": {},
   "source": [
    "## Μέρος 2ο \n",
    "Εφόσον έχει υλοποιηθεί η κλάση με τις βασικές λειτουργίες του αντεστραμένου ευρετηρίου καλείστε να προσθέσετε τις εξής λειτουργικότητες στην αρχική κλάση, οι οποίες μελλοντικά θα μας παρέχουν ιδιότητες στο ανεστραμμένο ευρετήριο οι οποίες θα διασφαλίσουν την ταχύτερη λειτουργία συγκεκριμένων ενεργειών.<br/>\n",
    "- Να είναι τα κλειδιά του ευρετηρίου ταξινομημένα αλφαβητικά <br/>\n",
    "- Να αποθηκεύεται και ο αριθμός εμφάνισης ενός όρου στο εκάστοτε έγγραφο μέσα στο ευρετήριο. \n",
    "- Να είναι σε αύξουσα/φθίνουσα σειρά τα έγγραφα τα οποία εμπεριέχουν τον κάθε όρο ανάλογα με την συχνότητα εμφάνισης. "
   ]
  },
  {
   "cell_type": "code",
   "execution_count": 1,
   "id": "3b02edbc",
   "metadata": {},
   "outputs": [
    {
     "name": "stdout",
     "output_type": "stream",
     "text": [
      "{'a': 2, 'b': 1}\n"
     ]
    }
   ],
   "source": [
    "# Το παρακάτω δουλεύει για Python >= 3.7. Εναλλακτικά μπορεί να χρησιμοποιηθεί από την βιβλιοθήκη collections, \n",
    "# η μέθοδος OrderedDict.\n",
    "# import collections\n",
    "# sorted_test_dictionary = collections.OrderedDict(sorted(test_dictionary.items()))\n",
    "test_dictionary = {\"b\":1, \"a\":2}\n",
    "sorted_test_dictionary = dict(sorted(test_dictionary.items()))\n",
    "print(sorted_test_dictionary )"
   ]
  },
  {
   "cell_type": "code",
   "execution_count": 2,
   "id": "b0a9669a",
   "metadata": {},
   "outputs": [],
   "source": [
    "# Προκειμένου να εισάγεται και ο αριθμός εμφάνισης του κάθε όρου ανά έγγραφο, η μέθοδος insert της κλάσης η οποία δημιουργήθηκε, \n",
    "# θα πρέπει να διαμορφωθεί ως εξής. \n",
    "test_dict = {}\n",
    "def insert_values(term: str, docid: int, test_dict):\n",
    "        # Εάν ο όρος υπάρχει:\n",
    "        if term in test_dict.keys(): \n",
    "            for idx, item in enumerate(test_dict[term]):\n",
    "                # Εάν ο όρος έχει εμφανιστεί στο δοθέν έγγραφο ήδη\n",
    "                if item[0] == docid: \n",
    "                    test_dict[term][idx] = (docid,test_dict[term][idx][1] +1 )\n",
    "                else: \n",
    "                    test_dict[term].append((docid, 1))\n",
    "        # Εάν ο όρος δεν υπάρχει:\n",
    "        else: \n",
    "            test_dict.setdefault(term, []).append((docid, 1))\n",
    "        return test_dict\n",
    "    "
   ]
  },
  {
   "cell_type": "code",
   "execution_count": 3,
   "id": "2144ad76",
   "metadata": {},
   "outputs": [
    {
     "name": "stdout",
     "output_type": "stream",
     "text": [
      "{'test_term': [(2, 1)]}\n",
      "{'test_term': [(2, 2)]}\n",
      "{'test_term': [(2, 2)], 'test_term2': [(3, 1)]}\n"
     ]
    }
   ],
   "source": [
    "test_dict = insert_values(\"test_term\", 2, test_dict)\n",
    "print(test_dict)\n",
    "test_dict = insert_values(\"test_term\", 2, test_dict)\n",
    "print(test_dict)\n",
    "test_dict = insert_values(\"test_term2\", 3, test_dict)\n",
    "print(test_dict)"
   ]
  },
  {
   "cell_type": "markdown",
   "id": "5e57f478",
   "metadata": {},
   "source": [
    "Ακόμη ευκολότερα το παραπάνω μπορεί να επιτευχθεί με την χρήση εμφολευμένων λεξικών, μια πρακτική η οποία θα διευκολύνει την διάταξη των τιμών οι οποίες δείχνουν τον αριθμό εμφανίσεων ανα έγγραφο. Συγκεκριμένα η χρήση της μεθόδου setdefault, ενσωματομένη της κλάσης - λεξικό, μας επιστρέφει την τιμή για δοθέν κλειδί και αν δεν υπάρχει δημιουργεί την εγγραφή με μια default τιμή. Ο κώδικας μπορεί πλέον να ξαναγραφεί όπως φαίνεται στο παρακάτω κελί. \n",
    "\n"
   ]
  },
  {
   "cell_type": "code",
   "execution_count": 181,
   "id": "aa5ea3a5",
   "metadata": {},
   "outputs": [],
   "source": [
    "test_dict = {}\n",
    "def insert_values(term: str, docid: int, test_dict):\n",
    "        # Εάν ο όρος υπάρχει:\n",
    "        if term in test_dict.keys(): \n",
    "            if str(docid) in test_dict[term].keys():\n",
    "                test_dict[term][str(docid)] += 1\n",
    "            else: \n",
    "                test_dict[term][str(docid)] =1\n",
    "        # Εάν ο όρος δεν υπάρχει:\n",
    "        \n",
    "        else: \n",
    "            test_dict.setdefault(term, {str(docid):1})\n",
    "        return test_dict\n",
    "    "
   ]
  },
  {
   "cell_type": "code",
   "execution_count": 4,
   "id": "0413af1f",
   "metadata": {},
   "outputs": [
    {
     "name": "stdout",
     "output_type": "stream",
     "text": [
      "{'test_term': [(2, 3)], 'test_term2': [(3, 1)]}\n",
      "{'test_term': [(2, 4), (3, 2)], 'test_term2': [(3, 1)]}\n",
      "{'test_term': [(2, 4), (3, 2)], 'test_term2': [(3, 2), (5, 3), (5, 2)]}\n"
     ]
    }
   ],
   "source": [
    "test_dict = insert_values(\"test_term\", 2, test_dict)\n",
    "print(test_dict)\n",
    "test_dict = insert_values(\"test_term\", 2, test_dict)\n",
    "test_dict = insert_values(\"test_term\", 3, test_dict)\n",
    "print(test_dict)\n",
    "test_dict = insert_values(\"test_term2\", 3, test_dict)\n",
    "test_dict = insert_values(\"test_term2\", 5, test_dict)\n",
    "test_dict = insert_values(\"test_term2\", 5, test_dict)\n",
    "print(test_dict)"
   ]
  },
  {
   "cell_type": "markdown",
   "id": "aebe67e8",
   "metadata": {},
   "source": [
    "Τέλος θα ταξινομήσουμε τις τιμές εμφάνισης όρων σε κάθε έγγραφο ανά αριθμό εμφανίσεων. Εάν θέλαμε να ταξίνομήσουμε το εμφωλευμένο λεξικό με τον κωδικό εγγράφου θα ακολοθούσαμε την διαδικασία όπως στο Μερος 2 - α\n",
    "<br/>\n",
    "Αξίζει να σημειωθεί ότι η μέθοδος sorted μπορεί να λάβει την παράμετρο reverse: bool  προκειμένου να οριστεί η σειρά διάταξης. "
   ]
  },
  {
   "cell_type": "code",
   "execution_count": 189,
   "id": "66fb3dd5",
   "metadata": {},
   "outputs": [
    {
     "name": "stdout",
     "output_type": "stream",
     "text": [
      "{'test_term': {'3': 1, '2': 2}, 'test_term2': {'3': 1, '5': 2}}\n"
     ]
    }
   ],
   "source": [
    "# 1ος Τροπος\n",
    "for key in test_dict.keys():\n",
    "    test_dict[key] = {k: v for k, v in sorted(test_dict[key].items(), key=lambda item: item[1])}\n",
    "print(test_dict)"
   ]
  },
  {
   "cell_type": "code",
   "execution_count": 190,
   "id": "6446162f",
   "metadata": {},
   "outputs": [
    {
     "name": "stdout",
     "output_type": "stream",
     "text": [
      "{'test_term': {'3': 1, '2': 2}, 'test_term2': {'3': 1, '5': 2}}\n"
     ]
    }
   ],
   "source": [
    "# 2ος Τρόπος\n",
    "for key in test_dict.keys():\n",
    "    test_dict[key] = dict(sorted(test_dict[key].items(), key=lambda item: item[1]))\n",
    "print(test_dict)"
   ]
  },
  {
   "cell_type": "markdown",
   "id": "dbbcd3ad",
   "metadata": {},
   "source": [
    "Τελικά η κλάση η οποία ώς είσοδο παίρνει ένα όρο και το χαρακτηριστικό εγγράφου το οποίο εμφανίζεται διαμορφώνεται ως εξής. "
   ]
  },
  {
   "cell_type": "code",
   "execution_count": 8,
   "id": "016f9644",
   "metadata": {},
   "outputs": [],
   "source": [
    "# Πρόσθεση στην βασική κλάση των μεθόδων get_values και print\n",
    "class inverted_index: \n",
    "    def __init__(self):\n",
    "        self.dictionary = {}\n",
    "        \n",
    "    # Εισάγει δεδομένα στο λεξικό στην μορφή και καταγράφει τον αριθμό εμφανίσεων \n",
    "    def insert_values(self, term: str, docid: int):\n",
    "        # Εάν ο όρος υπάρχει:\n",
    "        if term in self.dictionary.keys(): \n",
    "            if str(docid) in self.dictionary[term].keys():\n",
    "                self.dictionary[term][str(docid)] += 1\n",
    "            else: \n",
    "                self.dictionary[term][str(docid)] =1\n",
    "        # Εάν ο όρος δεν υπάρχει:\n",
    "        \n",
    "        else: \n",
    "            self.dictionary.setdefault(term, {str(docid):1})\n",
    "    \n",
    "    \n",
    "    # Εισάγει επιστρέφει τα έγγραφα στα οποία εμφανίζεται ένας όρος\n",
    "    def get_values(self, term: str):\n",
    "        return self.dictionary[term]\n",
    "    \n",
    "    # Εκτυπώνει όλους τους όρους του αντεστραμμένου ευρετηρίου\n",
    "    def print_values(self):\n",
    "        print(self.dictionary)\n",
    "        \n",
    "    # Διατάσσει το λεξικό ανά όρο\n",
    "    def sort_terms(self):\n",
    "        if len(self.dictionary) > 0 : \n",
    "            self.dictionary = dict(sorted(self.dictionary.items()))\n",
    "        else: \n",
    "            raise Exception(\"Dictionary is empty!\")\n",
    "    \n",
    "    # Διατάσσει τα εμφωλευμένα λεξικά\n",
    "    def sort_term_values(self):\n",
    "        for key in self.dictionary.keys():\n",
    "            if len(self.dictionary) > 0 : \n",
    "                self.dictionary[key] = dict(sorted(self.dictionary[key].items(), key=lambda item: item[1]))\n",
    "            else: \n",
    "                raise Exception(\"Dictionary is empty!\")\n"
   ]
  },
  {
   "cell_type": "code",
   "execution_count": 17,
   "id": "6d37bbc9",
   "metadata": {},
   "outputs": [
    {
     "name": "stdout",
     "output_type": "stream",
     "text": [
      "{'test_term': {'2': 2, '3': 1}, 'atest_term2': {'3': 1, '5': 2}}\n",
      "{'atest_term2': {'3': 1, '5': 2}, 'test_term': {'2': 2, '3': 1}}\n",
      "{'atest_term2': {'3': 1, '5': 2}, 'test_term': {'3': 1, '2': 2}}\n"
     ]
    }
   ],
   "source": [
    "# Working Example\n",
    "ii = inverted_index()\n",
    "\n",
    "ii.insert_values(\"test_term\", 2) \n",
    "ii.insert_values(\"test_term\", 2)\n",
    "ii.insert_values(\"test_term\", 3)\n",
    "ii.insert_values(\"atest_term2\", 3)\n",
    "ii.insert_values(\"atest_term2\", 5)\n",
    "ii.insert_values(\"atest_term2\", 5)\n",
    "\n",
    "ii.get_values(\"test_term\")\n",
    "ii.print_values()\n",
    "\n",
    "ii.sort_terms()\n",
    "ii.print_values()\n",
    "\n",
    "ii.sort_term_values()\n",
    "ii.print_values()"
   ]
  }
 ],
 "metadata": {
  "kernelspec": {
   "display_name": "Python 3 (ipykernel)",
   "language": "python",
   "name": "python3"
  },
  "language_info": {
   "codemirror_mode": {
    "name": "ipython",
    "version": 3
   },
   "file_extension": ".py",
   "mimetype": "text/x-python",
   "name": "python",
   "nbconvert_exporter": "python",
   "pygments_lexer": "ipython3",
   "version": "3.10.0"
  }
 },
 "nbformat": 4,
 "nbformat_minor": 5
}
