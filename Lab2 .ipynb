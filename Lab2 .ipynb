{
 "cells": [
  {
   "cell_type": "markdown",
   "id": "2e650339",
   "metadata": {},
   "source": [
    "# Εργαστήριο 2 - Κατασκευή Αντεστραμμένου Ευρετηρίου με Πίνακα Κατακερματισμού. \n",
    "## Τμήμα Ψηφιακών Συστημάτων - Πανεπιστήμιο Πειραιά\n",
    "\n",
    "Διδάσκων Καθηγητής: Δουλκερίδης Χρήστος <br />\n",
    "Υπ. Διδάκτωρας: Πουλάκης Γιάννης"
   ]
  },
  {
   "cell_type": "markdown",
   "id": "6632bb6f",
   "metadata": {},
   "source": [
    "Στο δεύτερο εργαστήριο καλείστε να υλοποιήσετε ένα αντεστραμμένο ευρετήριο (inverted index) κύριας μνήμης το οποίο θα γεμίσετε με τα περιεχόμενα της συλλογής δεδομένων Reuters, μέσω του parser που φτιάξατε στο πρώτο εργαστήριο. \n",
    "\n",
    "Η λειτουργικότητα του αντεστραμμένου ευρετηρίου, που μπορεί να υλοποιηθεί σαν μια κλάση, αποτελείται από τα εξής:\n",
    "\n",
    "•\tΗ βασική δομή δεδομένων που θα χρησιμοποιηθεί θα είναι ένας πίνακας κατακερματισμού (για το λεξικό) και ταξινομημένες λίστες (για τις λίστες καταχώρησης). Η ταξινομημένη λίστα θα χρησιμοποιηθεί ένα απλό ArrayList, αλλά θα μπορούσε κανείς να χρησιμοποιήσει μια SortedList. Για τις ανάγκες αυτού του εργαστηρίου αρκεί το ArrayList, με την προϋπόθεση ότι θα δίνετε έναν αύξων αριθμό ως (αναγνωριστικό εγγράφου) σε κάθε έγγραφο της συλλογής που κάνετε parse.\n",
    "\n",
    "------------------\n",
    "\n",
    "•\tΗ μέθοδος insert επιτρέπει την εισαγωγή ενός αναγνωριστικού εγγράφου (nDocID) που σχετίζεται με κάποιον όρο (sTerm), όταν αυτός συναντάται σε ένα έγγραφο. \n",
    "\n",
    "------------------\n",
    "\n",
    "•\tΗ μέθοδος get επιστρέφει για έναν όρο (sTerm) την ταξινομημένη λίστα με τα αναγνωριστικά εγγράφων που αντιστοιχούν σε αυτόν τον όρο (ουσιαστικά τα έγγραφα στα οποία περιέχεται ο όρος).\n",
    "\n",
    "------------------\n",
    "\n",
    "•\tΗ μέθοδος print εκτυπώνει τα περιεχόμενα στην οθόνη, και χρησιμοποιείται για debugging.\n",
    "\n",
    "------------------\n"
   ]
  },
  {
   "cell_type": "markdown",
   "id": "934b56e2",
   "metadata": {},
   "source": [
    "Αξίζει να σημειωθεί ότι η Python προσφέρει ενσωματωμένη την χρήση πίνακα κατακερματισμού στις μεθόδους λεξικών - dictionary, το οποίο μας επιτρέπει την άμεση χρήση τους. "
   ]
  },
  {
   "cell_type": "code",
   "execution_count": 13,
   "id": "44065295",
   "metadata": {},
   "outputs": [],
   "source": [
    "class inverted_index: \n",
    "    def __init__(self):\n",
    "        self.dictionary = {}\n",
    "    def insert_values(self, term: str, docid: int):\n",
    "        if term in self.dictionary.keys(): \n",
    "            self.dictionary[term].append(docid)\n",
    "        else: \n",
    "            self.dictionary[term] = [docid]"
   ]
  },
  {
   "cell_type": "code",
   "execution_count": 14,
   "id": "933933da",
   "metadata": {},
   "outputs": [
    {
     "name": "stdout",
     "output_type": "stream",
     "text": [
      "{'test': [2, 3]}\n"
     ]
    }
   ],
   "source": [
    "c = inverted_index()\n",
    "c.insert_values(\"test\", 2)\n",
    "c.insert_values(\"test\", 3)\n",
    "print(c.dictionary)"
   ]
  },
  {
   "cell_type": "code",
   "execution_count": 15,
   "id": "b95ee8ef",
   "metadata": {},
   "outputs": [],
   "source": [
    "class inverted_index: \n",
    "    def __init__(self):\n",
    "        self.dictionary = {}\n",
    "    # Εισάγει δεδομένα στο λεξικό στην μορφή \n",
    "    def insert_values(self, term: str, docid: int):\n",
    "        if term in self.dictionary.keys(): \n",
    "            self.dictionary[term].append(docid)\n",
    "        else: \n",
    "            self.dictionary[term] = [docid]\n",
    "    def get_values(self, term: str):\n",
    "        return self.dictionary[term]\n",
    "    \n",
    "    def print_values(self):\n",
    "        return self.dictionary\n",
    "    "
   ]
  },
  {
   "cell_type": "code",
   "execution_count": 16,
   "id": "69dcdba4",
   "metadata": {},
   "outputs": [
    {
     "name": "stdout",
     "output_type": "stream",
     "text": [
      "Docs containing term: [2, 3]\n",
      "Contents of the inverted_index: {'test': [2, 3]}\n"
     ]
    }
   ],
   "source": [
    "c = inverted_index()\n",
    "c.insert_values(\"test\", 2)\n",
    "c.insert_values(\"test\", 3)\n",
    "print(\"Docs containing term: {}\".format(c.get_values(\"test\")))\n",
    "print(\"Contents of the inverted_index: {}\".format(c.print_values()))"
   ]
  },
  {
   "cell_type": "markdown",
   "id": "707a9d93",
   "metadata": {},
   "source": [
    "**Προσοχή** Η εκτύπωση των στοιχείων του αντεστραμμένου ευρετηρίου, δεν χρειάζεται να υλοποιηθεί σε ξεχωριστή μέθοδο, αρκεί η κλήση του αντίστοιχου στοιχείου της κλάσης. \n",
    "</br>\n",
    "ii = inverted.index() </br>\n",
    "ii.dictionary()"
   ]
  },
  {
   "cell_type": "markdown",
   "id": "9cc54945",
   "metadata": {},
   "source": [
    "## Μέρος 2ο \n",
    "Εφόσον έχει υλοποιηθεί η κλάση με τις βασικές λειτουργίες του αντεστραμένου ευρετηρίου θα θέλουμε να προσθέσουμε τα εξής στοιχεία <br/>\n",
    "- Να είναι τα κλειδιά του ευρετηρίου ταξινομημένα αλφαβητικά <br/>\n",
    "- Να αποθηκεύεται και ο αριθμός εμφάνισης ενός όρου στο εκάστοτε έγγραφο μέσα στο ευρετήριο. \n",
    "- Να είναι σε αύξουσα/φθίνουσα σειρά τα έγγραφα τα οποία εμπεριέχουν τον κάθε όρο ανάλογα με την συχνότητα εμφάνισης. "
   ]
  },
  {
   "cell_type": "code",
   "execution_count": 5,
   "id": "71c071b6",
   "metadata": {},
   "outputs": [
    {
     "name": "stdout",
     "output_type": "stream",
     "text": [
      "{'a': 2, 'b': 1}\n"
     ]
    }
   ],
   "source": [
    "# Το παρακάτω δουλεύει για Python >= 3.7. Εναλλακτικά μπορεί να χρησιμοποιηθεί από την βιβλιοθήκη collections, \n",
    "# η μέθοδος OrderedDict.\n",
    "# import collections\n",
    "# sorted_test_dictionary = collections.OrderedDict(sorted(test_dictionary.items()))\n",
    "test_dictionary = {\"b\":1, \"a\":2}\n",
    "sorted_test_dictionary = dict(sorted(test_dictionary.items()))\n",
    "print(sorted_test_dictionary )"
   ]
  },
  {
   "cell_type": "code",
   "execution_count": 139,
   "id": "138f66f2",
   "metadata": {},
   "outputs": [],
   "source": [
    "# Προκειμένου να εισάγεται και ο αριθμός εμφάνισης του κάθε όρου ανά έγγραφο, η μέθοδος insert της κλάσης η οποία δημιουργήθηκε, \n",
    "# θα πρέπει να διαμορφωθεί ως εξής. \n",
    "test_dict = {}\n",
    "def insert_values(term: str, docid: int, test_dict):\n",
    "        # Εάν ο όρος υπάρχει:\n",
    "        if term in test_dict.keys(): \n",
    "            for idx, item in enumerate(test_dict[term]):\n",
    "                # Εάν ο όρος έχει εμφανιστεί στο δοθέν έγγραφο ήδη\n",
    "                if item[0] == docid: \n",
    "                    test_dict[term][idx] = (docid,test_dict[term][idx][1] +1 )\n",
    "                else: \n",
    "                    test_dict[term].append((docid, 1))\n",
    "        # Εάν ο όρος δεν υπάρχει:\n",
    "        else: \n",
    "            test_dict.setdefault(term, []).append((docid, 1))\n",
    "        return test_dict\n",
    "    "
   ]
  },
  {
   "cell_type": "code",
   "execution_count": 140,
   "id": "6f151836",
   "metadata": {},
   "outputs": [
    {
     "name": "stdout",
     "output_type": "stream",
     "text": [
      "{'test_term': [(2, 1)]}\n",
      "{'test_term': [(2, 2)]}\n",
      "{'test_term': [(2, 2)], 'test_term2': [(3, 1)]}\n"
     ]
    }
   ],
   "source": [
    "test_dict = insert_values(\"test_term\", 2, test_dict)\n",
    "print(test_dict)\n",
    "test_dict = insert_values(\"test_term\", 2, test_dict)\n",
    "print(test_dict)\n",
    "test_dict = insert_values(\"test_term2\", 3, test_dict)\n",
    "print(test_dict)"
   ]
  },
  {
   "cell_type": "markdown",
   "id": "afd458ff",
   "metadata": {},
   "source": [
    "Ακόμη ευκολότερα το παραπάνω μπορεί να επιτευχθεί με την χρήση εμφολευμένων λεξικών, μια πρακτική η οποία θα διευκολύνει την κατάταξη των τιμών οι οποίες δείχνουν τον αριθμό εμφανίσεων ανα έγγραφο. Συγκεκριμένα η χρήση της μεθόδου setdefault, ενσωματομένη της κλάσης - λεξικό, μας επιστρέφει την τιμή για δοθέν κλειδί και αν δεν υπάρχει δημιουργεί την εγγραφή με μια default τιμή. Ο κώδικας μπορεί πλέον να ξαναγραφεί όπως φαίνεται στο παρακάτω κελί. \n",
    "\n"
   ]
  },
  {
   "cell_type": "code",
   "execution_count": 181,
   "id": "51c011f3",
   "metadata": {},
   "outputs": [],
   "source": [
    "test_dict = {}\n",
    "def insert_values(term: str, docid: int, test_dict):\n",
    "        # Εάν ο όρος υπάρχει:\n",
    "        if term in test_dict.keys(): \n",
    "            if str(docid) in test_dict[term].keys():\n",
    "                test_dict[term][str(docid)] += 1\n",
    "            else: \n",
    "                test_dict[term][str(docid)] =1\n",
    "        # Εάν ο όρος δεν υπάρχει:\n",
    "        \n",
    "        else: \n",
    "            test_dict.setdefault(term, {str(docid):1})\n",
    "        return test_dict\n",
    "    "
   ]
  },
  {
   "cell_type": "code",
   "execution_count": 182,
   "id": "39a13df0",
   "metadata": {},
   "outputs": [
    {
     "name": "stdout",
     "output_type": "stream",
     "text": [
      "{'test_term': {'2': 1}}\n",
      "{'test_term': {'2': 2, '3': 1}}\n",
      "{'test_term': {'2': 2, '3': 1}, 'test_term2': {'3': 1, '5': 2}}\n"
     ]
    }
   ],
   "source": [
    "test_dict = insert_values(\"test_term\", 2, test_dict)\n",
    "print(test_dict)\n",
    "test_dict = insert_values(\"test_term\", 2, test_dict)\n",
    "test_dict = insert_values(\"test_term\", 3, test_dict)\n",
    "print(test_dict)\n",
    "test_dict = insert_values(\"test_term2\", 3, test_dict)\n",
    "test_dict = insert_values(\"test_term2\", 5, test_dict)\n",
    "test_dict = insert_values(\"test_term2\", 5, test_dict)\n",
    "print(test_dict)"
   ]
  },
  {
   "cell_type": "markdown",
   "id": "2f514948",
   "metadata": {},
   "source": [
    "Τέλος θα ταξινομήσουμε τις τιμές εμφάνισης όρων σε κάθε έγγραφο ανά αριθμό εμφανίσεων. Εάν θέλαμε να ταξίνομήσουμε το εμφωλευμένο λεξικό με τον κωδικό εγγράφου θα ακολοθούσαμε την διαδικασία όπως στο Μερος 2 - α"
   ]
  },
  {
   "cell_type": "code",
   "execution_count": 188,
   "id": "5e1897c6",
   "metadata": {},
   "outputs": [
    {
     "ename": "SyntaxError",
     "evalue": "invalid syntax (Temp/ipykernel_38824/416138744.py, line 3)",
     "output_type": "error",
     "traceback": [
      "\u001b[1;36m  File \u001b[1;32m\"C:\\Users\\giann\\AppData\\Local\\Temp/ipykernel_38824/416138744.py\"\u001b[1;36m, line \u001b[1;32m3\u001b[0m\n\u001b[1;33m    for\u001b[0m\n\u001b[1;37m        ^\u001b[0m\n\u001b[1;31mSyntaxError\u001b[0m\u001b[1;31m:\u001b[0m invalid syntax\n"
     ]
    }
   ],
   "source": [
    "print(test_dict)\n",
    "# 1ος τρόπος. \n",
    "for for key in test_dict.keys():\n",
    "sorted_dict = {k: v for k, v in sorted(test_dict.items(), key=lambda item: item[1])}\n",
    "print(sorted_dict)"
   ]
  },
  {
   "cell_type": "code",
   "execution_count": 177,
   "id": "6add3122",
   "metadata": {},
   "outputs": [],
   "source": [
    "for key in test_dict.keys():\n",
    "    test_dict[key] = {k: v for k, v in sorted(test_dict[key].items(), key=lambda item: item[1])}"
   ]
  },
  {
   "cell_type": "code",
   "execution_count": 186,
   "id": "558437ee",
   "metadata": {},
   "outputs": [
    {
     "name": "stdout",
     "output_type": "stream",
     "text": [
      "{'test_term': {'3': 1, '2': 2}, 'test_term2': {'3': 1, '5': 2}}\n"
     ]
    }
   ],
   "source": [
    "print(test_dict)"
   ]
  },
  {
   "cell_type": "code",
   "execution_count": 185,
   "id": "6c029cbd",
   "metadata": {},
   "outputs": [],
   "source": [
    "for key in test_dict.keys():\n",
    "    test_dict[key] = dict(sorted(test_dict[key].items(), key=lambda item: item[1]))"
   ]
  },
  {
   "cell_type": "code",
   "execution_count": null,
   "id": "937c76a8",
   "metadata": {},
   "outputs": [],
   "source": []
  }
 ],
 "metadata": {
  "kernelspec": {
   "display_name": "Python 3 (ipykernel)",
   "language": "python",
   "name": "python3"
  },
  "language_info": {
   "codemirror_mode": {
    "name": "ipython",
    "version": 3
   },
   "file_extension": ".py",
   "mimetype": "text/x-python",
   "name": "python",
   "nbconvert_exporter": "python",
   "pygments_lexer": "ipython3",
   "version": "3.10.0"
  }
 },
 "nbformat": 4,
 "nbformat_minor": 5
}
